{
 "cells": [
  {
   "cell_type": "markdown",
   "id": "b49f4b47",
   "metadata": {},
   "source": [
    "# Breast Histopathology Images"
   ]
  },
  {
   "cell_type": "code",
   "execution_count": 1,
   "id": "777357e1",
   "metadata": {},
   "outputs": [],
   "source": [
    "import os\n",
    "import zipfile\n",
    "import random\n",
    "import shutil\n",
    "import glob\n",
    "import matplotlib.image  as mpimg\n",
    "import matplotlib.pyplot as plt\n",
    "import tensorflow as tf\n",
    "from tensorflow.keras.optimizers import RMSprop\n",
    "from tensorflow.keras.preprocessing.image import ImageDataGenerator\n",
    "from shutil import copyfile\n"
   ]
  },
  {
   "cell_type": "markdown",
   "id": "d0e28935",
   "metadata": {},
   "source": [
    "## Lectura y organización de la información"
   ]
  },
  {
   "cell_type": "code",
   "execution_count": 2,
   "id": "ed08ed3e",
   "metadata": {},
   "outputs": [],
   "source": [
    "breast_imgs = glob.glob('breast-histopathology-images/IDC_regular_ps50_idx5/**/**.png', recursive = True)"
   ]
  },
  {
   "cell_type": "code",
   "execution_count": 3,
   "id": "bb4f5493",
   "metadata": {},
   "outputs": [
    {
     "name": "stdout",
     "output_type": "stream",
     "text": [
      "breast-histopathology-images/IDC_regular_ps50_idx5\\10253\\0\\10253_idx5_x1001_y1001_class0.png\n",
      "breast-histopathology-images/IDC_regular_ps50_idx5\\10253\\0\\10253_idx5_x1001_y1051_class0.png\n",
      "breast-histopathology-images/IDC_regular_ps50_idx5\\10253\\0\\10253_idx5_x1001_y1101_class0.png\n",
      "breast-histopathology-images/IDC_regular_ps50_idx5\\10253\\0\\10253_idx5_x1001_y1151_class0.png\n",
      "breast-histopathology-images/IDC_regular_ps50_idx5\\10253\\0\\10253_idx5_x1001_y1201_class0.png\n"
     ]
    }
   ],
   "source": [
    "for imgname in breast_imgs[:5]:\n",
    "    print(imgname)    "
   ]
  },
  {
   "cell_type": "markdown",
   "id": "ab4541fc",
   "metadata": {},
   "source": [
    "Si dejamos \"shutil.copy\" crearemos un duplicado de las imágenes en las carpetas especificadas, lo cual no es recomendable correr si ya lo hicimos una vez"
   ]
  },
  {
   "cell_type": "code",
   "execution_count": 4,
   "id": "6dca2494",
   "metadata": {},
   "outputs": [],
   "source": [
    "non_cancer_imgs = []\n",
    "cancer_imgs = []\n",
    "\n",
    "carpeta_cancer = 'cancer/'\n",
    "carpeta_nocancer = 'no-cancer/'\n",
    "for img in breast_imgs:\n",
    "    if img[-5] == '0' :\n",
    "        #shutil.copy(img, carpeta_cancer)\n",
    "        non_cancer_imgs.append(img)\n",
    "    \n",
    "    elif img[-5] == '1' :\n",
    "        #shutil.copy(img, carpeta_nocancer)\n",
    "        cancer_imgs.append(img)"
   ]
  },
  {
   "cell_type": "code",
   "execution_count": 5,
   "id": "aa64d816",
   "metadata": {},
   "outputs": [
    {
     "name": "stdout",
     "output_type": "stream",
     "text": [
      "Número de imágenes sin cancer: 198738\n",
      "Número de imágenes cancer : 78786\n",
      "Total de imágenes : 277524\n"
     ]
    }
   ],
   "source": [
    "non_cancer_num = len(non_cancer_imgs)  # No cancer\n",
    "cancer_num = len(cancer_imgs)   # Cancer \n",
    "        \n",
    "total_img_num = non_cancer_num + cancer_num\n",
    "        \n",
    "print('Número de imágenes sin cancer: {}' .format(non_cancer_num))   # images of Non cancer\n",
    "print('Número de imágenes cancer : {}' .format(cancer_num))   # images of cancer \n",
    "print('Total de imágenes : {}' .format(total_img_num))"
   ]
  },
  {
   "cell_type": "code",
   "execution_count": 6,
   "id": "eb6b9253",
   "metadata": {},
   "outputs": [],
   "source": [
    "entrenamiento_cancer = 'entrenamiento/cancer/'\n",
    "entrenamiento_nocancer = 'entrenamiento/nocancer/'\n",
    "test_cancer = 'test/cancer/'\n",
    "test_nocancer = 'test/nocancer/'"
   ]
  },
  {
   "cell_type": "code",
   "execution_count": 7,
   "id": "a66a2bf2",
   "metadata": {},
   "outputs": [],
   "source": [
    "def split_data(SOURCE, TRAINING, TESTING, SPLIT_SIZE):\n",
    "    files = []\n",
    "    for filename in os.listdir(SOURCE):\n",
    "        file = SOURCE + filename\n",
    "        if os.path.getsize(file) > 0:\n",
    "            files.append(filename)\n",
    "        else:\n",
    "            print(filename + \" is zero length, so ignoring.\")\n",
    "\n",
    "    training_length = int(len(files) * SPLIT_SIZE)\n",
    "    testing_length = int(len(files) - training_length)\n",
    "    shuffled_set = random.sample(files, len(files))\n",
    "    training_set = shuffled_set[0:training_length]\n",
    "    testing_set = shuffled_set[:testing_length]\n",
    "\n",
    "    for filename in training_set:\n",
    "        this_file = SOURCE + filename\n",
    "        destination = TRAINING + filename\n",
    "        copyfile(this_file, destination)\n",
    "\n",
    "    for filename in testing_set:\n",
    "        this_file = SOURCE + filename\n",
    "        destination = TESTING + filename\n",
    "        copyfile(this_file, destination)"
   ]
  },
  {
   "cell_type": "markdown",
   "id": "1faa21c7",
   "metadata": {},
   "source": [
    "Separamos los datos (imágenes) para entrenamiento y para test. Solo hacerlo una vez"
   ]
  },
  {
   "cell_type": "code",
   "execution_count": null,
   "id": "242f1977",
   "metadata": {},
   "outputs": [],
   "source": [
    "split_size = .8\n",
    "\n",
    "#split_data(carpeta_cancer, entrenamiento_cancer, test_cancer, split_size)\n",
    "#split_data(carpeta_nocancer, entrenamiento_nocancer, test_nocancer, split_size)"
   ]
  },
  {
   "cell_type": "code",
   "execution_count": 8,
   "id": "8f595caf",
   "metadata": {},
   "outputs": [
    {
     "name": "stdout",
     "output_type": "stream",
     "text": [
      "Imágenes de entrenamiento sin cancer: 158990\n",
      "Imágenes de entrenamiento con cancer: 63028\n",
      "Imágenes de entrenamiento total: 222018\n",
      "Imágenes de test sin cancer: 39748\n",
      "Imágenes de test con cancer: 15758\n",
      "Imágenes de test total: 55506\n"
     ]
    }
   ],
   "source": [
    "entrenamiento_cancer = 'entrenamiento/cancer/'\n",
    "entrenamiento_nocancer = 'entrenamiento/nocancer/'\n",
    "test_cancer = 'test/cancer/'\n",
    "test_nocancer = 'test/nocancer/'\n",
    "\n",
    "datos_entrenamiento_cancer = glob.glob('entrenamiento/cancer/**.png', recursive = True)\n",
    "datos_entrenamiento_nocancer = glob.glob('entrenamiento/nocancer/**.png', recursive = True)\n",
    "datos_test_cancer = glob.glob('test/cancer/**.png', recursive = True)\n",
    "datos_test_nocancer = glob.glob('test/nocancer/**.png', recursive = True)\n",
    "\n",
    "\n",
    "print('Imágenes de entrenamiento sin cancer: {}' .format(len(datos_entrenamiento_cancer)))\n",
    "print('Imágenes de entrenamiento con cancer: {}' .format(len(datos_entrenamiento_nocancer)))\n",
    "print('Imágenes de entrenamiento total: {}' .format(len(datos_entrenamiento_nocancer)+len(datos_entrenamiento_cancer)))\n",
    "print('Imágenes de test sin cancer: {}' .format(len(datos_test_cancer)))\n",
    "print('Imágenes de test con cancer: {}' .format(len(datos_test_nocancer)))\n",
    "print('Imágenes de test total: {}' .format(len(datos_test_nocancer)+len(datos_test_cancer)))"
   ]
  },
  {
   "cell_type": "markdown",
   "id": "08d8c050",
   "metadata": {},
   "source": [
    "## RNC\n",
    "Las imágenes proporcionadas en https://www.kaggle.com/datasets/paultimothymooney/breast-histopathology-images/data tienen una dimensión de 50x50 y están a color (RGB). "
   ]
  },
  {
   "cell_type": "code",
   "execution_count": 9,
   "id": "54d9dd84",
   "metadata": {},
   "outputs": [],
   "source": [
    "model = tf.keras.models.Sequential([\n",
    "    tf.keras.layers.Conv2D(16, (3, 3), activation='relu', input_shape=(50, 50, 3)),\n",
    "    tf.keras.layers.MaxPooling2D(2, 2),\n",
    "    tf.keras.layers.Conv2D(32, (3, 3), activation='relu'),\n",
    "    tf.keras.layers.MaxPooling2D(2, 2),\n",
    "    tf.keras.layers.Conv2D(64, (3, 3), activation='relu'),\n",
    "    tf.keras.layers.MaxPooling2D(2, 2),\n",
    "    tf.keras.layers.Flatten(),\n",
    "    tf.keras.layers.Dense(512, activation='relu'),\n",
    "    tf.keras.layers.Dense(1, activation='sigmoid')\n",
    "])\n",
    "model.compile(optimizer=RMSprop(learning_rate=0.001), loss='binary_crossentropy', metrics=['accuracy'])"
   ]
  },
  {
   "cell_type": "code",
   "execution_count": 10,
   "id": "a8ab8ff3",
   "metadata": {},
   "outputs": [
    {
     "name": "stdout",
     "output_type": "stream",
     "text": [
      "Found 222018 images belonging to 2 classes.\n",
      "Found 55506 images belonging to 2 classes.\n"
     ]
    }
   ],
   "source": [
    "TRAINING_DIR = \"entrenamiento/\"\n",
    "\n",
    "train_datagen = ImageDataGenerator(rescale=1./255,\n",
    "      rotation_range=40,\n",
    "      width_shift_range=0.1,\n",
    "      height_shift_range=0.1,\n",
    "      shear_range=0.1,\n",
    "      zoom_range=0.2,\n",
    "      horizontal_flip=True,\n",
    "      fill_mode='nearest')\n",
    "\n",
    "train_generator = train_datagen.flow_from_directory(TRAINING_DIR,\n",
    "                                                    batch_size=100,\n",
    "                                                    class_mode='binary',\n",
    "                                                    target_size=(50, 50))\n",
    "\n",
    "VALIDATION_DIR = \"test/\"\n",
    "\n",
    "validation_datagen = ImageDataGenerator(rescale=1./255,\n",
    "      rotation_range=40,\n",
    "      width_shift_range=0.1,\n",
    "      height_shift_range=0.1,\n",
    "      shear_range=0.1,\n",
    "      zoom_range=0.2,\n",
    "      horizontal_flip=True,\n",
    "      fill_mode='nearest')\n",
    "validation_generator = validation_datagen.flow_from_directory(VALIDATION_DIR,\n",
    "                                                              batch_size=100,\n",
    "                                                              class_mode='binary',\n",
    "                                                              target_size=(50, 50))"
   ]
  },
  {
   "cell_type": "code",
   "execution_count": 11,
   "id": "03c67a54",
   "metadata": {},
   "outputs": [
    {
     "name": "stdout",
     "output_type": "stream",
     "text": [
      "2221\n",
      "100\n",
      "22\n"
     ]
    }
   ],
   "source": [
    "total_muestras = len(train_generator)  \n",
    "tamano_lote = train_generator.batch_size\n",
    "numero_de_lotes = total_muestras // tamano_lote\n",
    "print(total_muestras)\n",
    "print(tamano_lote)\n",
    "print(numero_de_lotes)"
   ]
  },
  {
   "cell_type": "code",
   "execution_count": 17,
   "id": "d9f8ec9c",
   "metadata": {},
   "outputs": [
    {
     "name": "stdout",
     "output_type": "stream",
     "text": [
      "Epoch 1/15\n",
      "100/100 [==============================] - 69s 697ms/step - loss: 0.5052 - accuracy: 0.7714 - val_loss: 0.5065 - val_accuracy: 0.7643\n",
      "Epoch 2/15\n",
      "100/100 [==============================] - 71s 710ms/step - loss: 0.4830 - accuracy: 0.7735 - val_loss: 0.4492 - val_accuracy: 0.8188\n",
      "Epoch 3/15\n",
      "100/100 [==============================] - 70s 701ms/step - loss: 0.4662 - accuracy: 0.7930 - val_loss: 0.4236 - val_accuracy: 0.8129\n",
      "Epoch 4/15\n",
      "100/100 [==============================] - 69s 697ms/step - loss: 0.4533 - accuracy: 0.8024 - val_loss: 0.4171 - val_accuracy: 0.8160\n",
      "Epoch 5/15\n",
      "100/100 [==============================] - 70s 701ms/step - loss: 0.4432 - accuracy: 0.8052 - val_loss: 0.4667 - val_accuracy: 0.7868\n",
      "Epoch 6/15\n",
      "100/100 [==============================] - 69s 691ms/step - loss: 0.4299 - accuracy: 0.8194 - val_loss: 0.4355 - val_accuracy: 0.8006\n",
      "Epoch 7/15\n",
      "100/100 [==============================] - 68s 687ms/step - loss: 0.4239 - accuracy: 0.8137 - val_loss: 0.3989 - val_accuracy: 0.8239\n",
      "Epoch 8/15\n",
      "100/100 [==============================] - 67s 673ms/step - loss: 0.4211 - accuracy: 0.8226 - val_loss: 0.3907 - val_accuracy: 0.8330\n",
      "Epoch 9/15\n",
      "100/100 [==============================] - 67s 678ms/step - loss: 0.4366 - accuracy: 0.8072 - val_loss: 0.5141 - val_accuracy: 0.7856\n",
      "Epoch 10/15\n",
      "100/100 [==============================] - 67s 679ms/step - loss: 0.4112 - accuracy: 0.8253 - val_loss: 0.3911 - val_accuracy: 0.8335\n",
      "Epoch 11/15\n",
      "100/100 [==============================] - 66s 668ms/step - loss: 0.4164 - accuracy: 0.8224 - val_loss: 0.3996 - val_accuracy: 0.8378\n",
      "Epoch 12/15\n",
      "100/100 [==============================] - 66s 660ms/step - loss: 0.4034 - accuracy: 0.8284 - val_loss: 0.4612 - val_accuracy: 0.7999\n",
      "Epoch 13/15\n",
      "100/100 [==============================] - 65s 657ms/step - loss: 0.4033 - accuracy: 0.8287 - val_loss: 0.3948 - val_accuracy: 0.8395\n",
      "Epoch 14/15\n",
      "100/100 [==============================] - 65s 656ms/step - loss: 0.3998 - accuracy: 0.8287 - val_loss: 0.4137 - val_accuracy: 0.8281\n",
      "Epoch 15/15\n",
      "100/100 [==============================] - 65s 651ms/step - loss: 0.4058 - accuracy: 0.8277 - val_loss: 0.3744 - val_accuracy: 0.8387\n"
     ]
    }
   ],
   "source": [
    "history = model.fit(train_generator,\n",
    "                              steps_per_epoch= 100,\n",
    "                              epochs=15,\n",
    "                              verbose=1,\n",
    "                              validation_data=validation_generator)"
   ]
  },
  {
   "cell_type": "code",
   "execution_count": 18,
   "id": "1e936ace",
   "metadata": {},
   "outputs": [],
   "source": [
    "#-----------------------------------------------------------\n",
    "# Retrieve a list of list results on training and test data\n",
    "# sets for each training epoch\n",
    "#-----------------------------------------------------------\n",
    "acc=history.history['accuracy']\n",
    "val_acc=history.history['val_accuracy']\n",
    "loss=history.history['loss']\n",
    "val_loss=history.history['val_loss']\n",
    "\n",
    "epochs=range(len(acc)) # Get number of epochs\n"
   ]
  },
  {
   "cell_type": "code",
   "execution_count": 19,
   "id": "6c07f83c",
   "metadata": {},
   "outputs": [
    {
     "data": {
      "image/png": "[encoded data removed]",
      "text/plain": [
       "<Figure size 640x480 with 1 Axes>"
      ]
     },
     "metadata": {},
     "output_type": "display_data"
    }
   ],
   "source": [
    "#------------------------------------------------\n",
    "# Plot training and validation accuracy per epoch\n",
    "#------------------------------------------------\n",
    "plt.plot(epochs, acc, 'r', \"Training Accuracy\")\n",
    "plt.plot(epochs, val_acc, 'b', \"Validation Accuracy\")\n",
    "plt.title('Training and validation accuracy')\n",
    "plt.show()\n"
   ]
  },
  {
   "cell_type": "code",
   "execution_count": 20,
   "id": "bdb7464f",
   "metadata": {},
   "outputs": [
    {
     "data": {
      "image/png": "[encoded data removed]",
      "text/plain": [
       "<Figure size 640x480 with 1 Axes>"
      ]
     },
     "metadata": {},
     "output_type": "display_data"
    }
   ],
   "source": [
    "#------------------------------------------------\n",
    "# Plot training and validation loss per epoch\n",
    "#------------------------------------------------\n",
    "plt.plot(epochs, loss, 'r', \"Training Loss\")\n",
    "plt.plot(epochs, val_loss, 'b', \"Validation Loss\")\n",
    "plt.show()\n",
    "# Desired output. Charts with training and validation metrics. No crash :)"
   ]
  }
 ],
 "metadata": {
  "kernelspec": {
   "display_name": "Python 3 (ipykernel)",
   "language": "python",
   "name": "python3"
  },
  "language_info": {
   "codemirror_mode": {
    "name": "ipython",
    "version": 3
   },
   "file_extension": ".py",
   "mimetype": "text/x-python",
   "name": "python",
   "nbconvert_exporter": "python",
   "pygments_lexer": "ipython3",
   "version": "3.11.5"
  }
 },
 "nbformat": 4,
 "nbformat_minor": 5
}
