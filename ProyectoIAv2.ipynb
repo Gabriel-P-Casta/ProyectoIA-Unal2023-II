{
 "cells": [
  {
   "cell_type": "markdown",
   "id": "d1f23889",
   "metadata": {},
   "source": [
    "# CBIS-DDSM: Breast Cancer Image Dataset"
   ]
  },
  {
   "cell_type": "markdown",
   "id": "d6bb2d7e",
   "metadata": {},
   "source": [
    "## Lectura de datos \n",
    "Tomado de \n",
    "\n",
    "https://www.kaggle.com/code/baselanaya/breast-cancer-detection-using-cnn?cellIds=34&kernelSessionId=144188816\n"
   ]
  },
  {
   "cell_type": "code",
   "execution_count": 13,
   "id": "215bb554",
   "metadata": {},
   "outputs": [],
   "source": [
    "import os\n",
    "from os import listdir\n",
    "import pandas as pd \n",
    "import numpy as np \n",
    "import matplotlib.pyplot as plt \n",
    "import plotly.express as px\n",
    "import seaborn as sns\n",
    "\n",
    "import cv2\n",
    "from matplotlib.image import imread\n",
    "\n",
    "import tensorflow as tf\n",
    "from tensorflow.keras.utils import to_categorical\n",
    "#from keras.utils.np_utils import to_categorical\n",
    "from keras.preprocessing import image\n",
    "from sklearn.model_selection import train_test_split\n",
    "from sklearn.metrics import confusion_matrix\n",
    "\n",
    "\n",
    "import glob\n",
    "import PIL\n",
    "import random\n",
    "\n",
    "random.seed(100)"
   ]
  },
  {
   "cell_type": "code",
   "execution_count": 6,
   "id": "90b9a313",
   "metadata": {},
   "outputs": [],
   "source": [
    "dicom_data = pd.read_csv('csv/dicom_info.csv')\n",
    "image_dir = 'jpeg'"
   ]
  },
  {
   "cell_type": "code",
   "execution_count": 7,
   "id": "70eacc3c",
   "metadata": {},
   "outputs": [
    {
     "data": {
      "text/html": [
       "<div>\n",
       "<style scoped>\n",
       "    .dataframe tbody tr th:only-of-type {\n",
       "        vertical-align: middle;\n",
       "    }\n",
       "\n",
       "    .dataframe tbody tr th {\n",
       "        vertical-align: top;\n",
       "    }\n",
       "\n",
       "    .dataframe thead th {\n",
       "        text-align: right;\n",
       "    }\n",
       "</style>\n",
       "<table border=\"1\" class=\"dataframe\">\n",
       "  <thead>\n",
       "    <tr style=\"text-align: right;\">\n",
       "      <th></th>\n",
       "      <th>file_path</th>\n",
       "      <th>image_path</th>\n",
       "      <th>AccessionNumber</th>\n",
       "      <th>BitsAllocated</th>\n",
       "      <th>BitsStored</th>\n",
       "      <th>BodyPartExamined</th>\n",
       "      <th>Columns</th>\n",
       "      <th>ContentDate</th>\n",
       "      <th>ContentTime</th>\n",
       "      <th>ConversionType</th>\n",
       "      <th>...</th>\n",
       "      <th>SecondaryCaptureDeviceManufacturerModelName</th>\n",
       "      <th>SeriesDescription</th>\n",
       "      <th>SeriesInstanceUID</th>\n",
       "      <th>SeriesNumber</th>\n",
       "      <th>SmallestImagePixelValue</th>\n",
       "      <th>SpecificCharacterSet</th>\n",
       "      <th>StudyDate</th>\n",
       "      <th>StudyID</th>\n",
       "      <th>StudyInstanceUID</th>\n",
       "      <th>StudyTime</th>\n",
       "    </tr>\n",
       "  </thead>\n",
       "  <tbody>\n",
       "    <tr>\n",
       "      <th>0</th>\n",
       "      <td>CBIS-DDSM/dicom/1.3.6.1.4.1.9590.100.1.2.12930...</td>\n",
       "      <td>CBIS-DDSM/jpeg/1.3.6.1.4.1.9590.100.1.2.129308...</td>\n",
       "      <td>NaN</td>\n",
       "      <td>16</td>\n",
       "      <td>16</td>\n",
       "      <td>BREAST</td>\n",
       "      <td>351</td>\n",
       "      <td>20160426</td>\n",
       "      <td>131732.685</td>\n",
       "      <td>WSD</td>\n",
       "      <td>...</td>\n",
       "      <td>MATLAB</td>\n",
       "      <td>cropped images</td>\n",
       "      <td>1.3.6.1.4.1.9590.100.1.2.129308726812851964007...</td>\n",
       "      <td>1</td>\n",
       "      <td>23078</td>\n",
       "      <td>ISO_IR 100</td>\n",
       "      <td>20160720.0</td>\n",
       "      <td>DDSM</td>\n",
       "      <td>1.3.6.1.4.1.9590.100.1.2.271867287611061855725...</td>\n",
       "      <td>214951.0</td>\n",
       "    </tr>\n",
       "    <tr>\n",
       "      <th>1</th>\n",
       "      <td>CBIS-DDSM/dicom/1.3.6.1.4.1.9590.100.1.2.24838...</td>\n",
       "      <td>CBIS-DDSM/jpeg/1.3.6.1.4.1.9590.100.1.2.248386...</td>\n",
       "      <td>NaN</td>\n",
       "      <td>16</td>\n",
       "      <td>16</td>\n",
       "      <td>BREAST</td>\n",
       "      <td>3526</td>\n",
       "      <td>20160426</td>\n",
       "      <td>143829.101</td>\n",
       "      <td>WSD</td>\n",
       "      <td>...</td>\n",
       "      <td>MATLAB</td>\n",
       "      <td>full mammogram images</td>\n",
       "      <td>1.3.6.1.4.1.9590.100.1.2.248386742010678582309...</td>\n",
       "      <td>1</td>\n",
       "      <td>0</td>\n",
       "      <td>ISO_IR 100</td>\n",
       "      <td>20160720.0</td>\n",
       "      <td>DDSM</td>\n",
       "      <td>1.3.6.1.4.1.9590.100.1.2.161516517311681906612...</td>\n",
       "      <td>193426.0</td>\n",
       "    </tr>\n",
       "    <tr>\n",
       "      <th>2</th>\n",
       "      <td>CBIS-DDSM/dicom/1.3.6.1.4.1.9590.100.1.2.26721...</td>\n",
       "      <td>CBIS-DDSM/jpeg/1.3.6.1.4.1.9590.100.1.2.267213...</td>\n",
       "      <td>NaN</td>\n",
       "      <td>16</td>\n",
       "      <td>16</td>\n",
       "      <td>BREAST</td>\n",
       "      <td>1546</td>\n",
       "      <td>20160503</td>\n",
       "      <td>111956.298</td>\n",
       "      <td>WSD</td>\n",
       "      <td>...</td>\n",
       "      <td>MATLAB</td>\n",
       "      <td>full mammogram images</td>\n",
       "      <td>1.3.6.1.4.1.9590.100.1.2.267213171011171858918...</td>\n",
       "      <td>1</td>\n",
       "      <td>0</td>\n",
       "      <td>ISO_IR 100</td>\n",
       "      <td>20160807.0</td>\n",
       "      <td>DDSM</td>\n",
       "      <td>1.3.6.1.4.1.9590.100.1.2.291043622711253836701...</td>\n",
       "      <td>161814.0</td>\n",
       "    </tr>\n",
       "    <tr>\n",
       "      <th>3</th>\n",
       "      <td>CBIS-DDSM/dicom/1.3.6.1.4.1.9590.100.1.2.38118...</td>\n",
       "      <td>CBIS-DDSM/jpeg/1.3.6.1.4.1.9590.100.1.2.381187...</td>\n",
       "      <td>NaN</td>\n",
       "      <td>16</td>\n",
       "      <td>16</td>\n",
       "      <td>BREAST</td>\n",
       "      <td>97</td>\n",
       "      <td>20160503</td>\n",
       "      <td>115347.770</td>\n",
       "      <td>WSD</td>\n",
       "      <td>...</td>\n",
       "      <td>MATLAB</td>\n",
       "      <td>cropped images</td>\n",
       "      <td>1.3.6.1.4.1.9590.100.1.2.381187369611524586537...</td>\n",
       "      <td>1</td>\n",
       "      <td>32298</td>\n",
       "      <td>ISO_IR 100</td>\n",
       "      <td>20170829.0</td>\n",
       "      <td>DDSM</td>\n",
       "      <td>1.3.6.1.4.1.9590.100.1.2.335006093711888937440...</td>\n",
       "      <td>180109.0</td>\n",
       "    </tr>\n",
       "    <tr>\n",
       "      <th>4</th>\n",
       "      <td>CBIS-DDSM/dicom/1.3.6.1.4.1.9590.100.1.2.38118...</td>\n",
       "      <td>CBIS-DDSM/jpeg/1.3.6.1.4.1.9590.100.1.2.381187...</td>\n",
       "      <td>NaN</td>\n",
       "      <td>8</td>\n",
       "      <td>8</td>\n",
       "      <td>Left Breast</td>\n",
       "      <td>3104</td>\n",
       "      <td>20160503</td>\n",
       "      <td>115347.770</td>\n",
       "      <td>WSD</td>\n",
       "      <td>...</td>\n",
       "      <td>MATLAB</td>\n",
       "      <td>NaN</td>\n",
       "      <td>1.3.6.1.4.1.9590.100.1.2.381187369611524586537...</td>\n",
       "      <td>1</td>\n",
       "      <td>0</td>\n",
       "      <td>ISO_IR 100</td>\n",
       "      <td>NaN</td>\n",
       "      <td>DDSM</td>\n",
       "      <td>1.3.6.1.4.1.9590.100.1.2.335006093711888937440...</td>\n",
       "      <td>NaN</td>\n",
       "    </tr>\n",
       "  </tbody>\n",
       "</table>\n",
       "<p>5 rows × 38 columns</p>\n",
       "</div>"
      ],
      "text/plain": [
       "                                           file_path  \\\n",
       "0  CBIS-DDSM/dicom/1.3.6.1.4.1.9590.100.1.2.12930...   \n",
       "1  CBIS-DDSM/dicom/1.3.6.1.4.1.9590.100.1.2.24838...   \n",
       "2  CBIS-DDSM/dicom/1.3.6.1.4.1.9590.100.1.2.26721...   \n",
       "3  CBIS-DDSM/dicom/1.3.6.1.4.1.9590.100.1.2.38118...   \n",
       "4  CBIS-DDSM/dicom/1.3.6.1.4.1.9590.100.1.2.38118...   \n",
       "\n",
       "                                          image_path  AccessionNumber  \\\n",
       "0  CBIS-DDSM/jpeg/1.3.6.1.4.1.9590.100.1.2.129308...              NaN   \n",
       "1  CBIS-DDSM/jpeg/1.3.6.1.4.1.9590.100.1.2.248386...              NaN   \n",
       "2  CBIS-DDSM/jpeg/1.3.6.1.4.1.9590.100.1.2.267213...              NaN   \n",
       "3  CBIS-DDSM/jpeg/1.3.6.1.4.1.9590.100.1.2.381187...              NaN   \n",
       "4  CBIS-DDSM/jpeg/1.3.6.1.4.1.9590.100.1.2.381187...              NaN   \n",
       "\n",
       "   BitsAllocated  BitsStored BodyPartExamined  Columns  ContentDate  \\\n",
       "0             16          16           BREAST      351     20160426   \n",
       "1             16          16           BREAST     3526     20160426   \n",
       "2             16          16           BREAST     1546     20160503   \n",
       "3             16          16           BREAST       97     20160503   \n",
       "4              8           8      Left Breast     3104     20160503   \n",
       "\n",
       "   ContentTime ConversionType  ...  \\\n",
       "0   131732.685            WSD  ...   \n",
       "1   143829.101            WSD  ...   \n",
       "2   111956.298            WSD  ...   \n",
       "3   115347.770            WSD  ...   \n",
       "4   115347.770            WSD  ...   \n",
       "\n",
       "   SecondaryCaptureDeviceManufacturerModelName      SeriesDescription  \\\n",
       "0                                       MATLAB         cropped images   \n",
       "1                                       MATLAB  full mammogram images   \n",
       "2                                       MATLAB  full mammogram images   \n",
       "3                                       MATLAB         cropped images   \n",
       "4                                       MATLAB                    NaN   \n",
       "\n",
       "                                   SeriesInstanceUID SeriesNumber  \\\n",
       "0  1.3.6.1.4.1.9590.100.1.2.129308726812851964007...            1   \n",
       "1  1.3.6.1.4.1.9590.100.1.2.248386742010678582309...            1   \n",
       "2  1.3.6.1.4.1.9590.100.1.2.267213171011171858918...            1   \n",
       "3  1.3.6.1.4.1.9590.100.1.2.381187369611524586537...            1   \n",
       "4  1.3.6.1.4.1.9590.100.1.2.381187369611524586537...            1   \n",
       "\n",
       "  SmallestImagePixelValue  SpecificCharacterSet   StudyDate StudyID  \\\n",
       "0                   23078            ISO_IR 100  20160720.0    DDSM   \n",
       "1                       0            ISO_IR 100  20160720.0    DDSM   \n",
       "2                       0            ISO_IR 100  20160807.0    DDSM   \n",
       "3                   32298            ISO_IR 100  20170829.0    DDSM   \n",
       "4                       0            ISO_IR 100         NaN    DDSM   \n",
       "\n",
       "                                    StudyInstanceUID  StudyTime  \n",
       "0  1.3.6.1.4.1.9590.100.1.2.271867287611061855725...   214951.0  \n",
       "1  1.3.6.1.4.1.9590.100.1.2.161516517311681906612...   193426.0  \n",
       "2  1.3.6.1.4.1.9590.100.1.2.291043622711253836701...   161814.0  \n",
       "3  1.3.6.1.4.1.9590.100.1.2.335006093711888937440...   180109.0  \n",
       "4  1.3.6.1.4.1.9590.100.1.2.335006093711888937440...        NaN  \n",
       "\n",
       "[5 rows x 38 columns]"
      ]
     },
     "execution_count": 7,
     "metadata": {},
     "output_type": "execute_result"
    }
   ],
   "source": [
    "dicom_data.head()"
   ]
  },
  {
   "cell_type": "code",
   "execution_count": 8,
   "id": "ab40638c",
   "metadata": {},
   "outputs": [
    {
     "name": "stdout",
     "output_type": "stream",
     "text": [
      "<class 'pandas.core.frame.DataFrame'>\n",
      "RangeIndex: 10237 entries, 0 to 10236\n",
      "Data columns (total 38 columns):\n",
      " #   Column                                       Non-Null Count  Dtype  \n",
      "---  ------                                       --------------  -----  \n",
      " 0   file_path                                    10237 non-null  object \n",
      " 1   image_path                                   10237 non-null  object \n",
      " 2   AccessionNumber                              0 non-null      float64\n",
      " 3   BitsAllocated                                10237 non-null  int64  \n",
      " 4   BitsStored                                   10237 non-null  int64  \n",
      " 5   BodyPartExamined                             10237 non-null  object \n",
      " 6   Columns                                      10237 non-null  int64  \n",
      " 7   ContentDate                                  10237 non-null  int64  \n",
      " 8   ContentTime                                  10237 non-null  float64\n",
      " 9   ConversionType                               10237 non-null  object \n",
      " 10  HighBit                                      10237 non-null  int64  \n",
      " 11  InstanceNumber                               10237 non-null  int64  \n",
      " 12  LargestImagePixelValue                       10237 non-null  int64  \n",
      " 13  Laterality                                   9671 non-null   object \n",
      " 14  Modality                                     10237 non-null  object \n",
      " 15  PatientBirthDate                             0 non-null      float64\n",
      " 16  PatientID                                    10237 non-null  object \n",
      " 17  PatientName                                  10237 non-null  object \n",
      " 18  PatientOrientation                           10237 non-null  object \n",
      " 19  PatientSex                                   0 non-null      float64\n",
      " 20  PhotometricInterpretation                    10237 non-null  object \n",
      " 21  PixelRepresentation                          10237 non-null  int64  \n",
      " 22  ReferringPhysicianName                       0 non-null      float64\n",
      " 23  Rows                                         10237 non-null  int64  \n",
      " 24  SOPClassUID                                  10237 non-null  object \n",
      " 25  SOPInstanceUID                               10237 non-null  object \n",
      " 26  SamplesPerPixel                              10237 non-null  int64  \n",
      " 27  SecondaryCaptureDeviceManufacturer           10237 non-null  object \n",
      " 28  SecondaryCaptureDeviceManufacturerModelName  10237 non-null  object \n",
      " 29  SeriesDescription                            9671 non-null   object \n",
      " 30  SeriesInstanceUID                            10237 non-null  object \n",
      " 31  SeriesNumber                                 10237 non-null  int64  \n",
      " 32  SmallestImagePixelValue                      10237 non-null  int64  \n",
      " 33  SpecificCharacterSet                         10237 non-null  object \n",
      " 34  StudyDate                                    9671 non-null   float64\n",
      " 35  StudyID                                      10237 non-null  object \n",
      " 36  StudyInstanceUID                             10237 non-null  object \n",
      " 37  StudyTime                                    9671 non-null   float64\n",
      "dtypes: float64(7), int64(12), object(19)\n",
      "memory usage: 3.0+ MB\n"
     ]
    }
   ],
   "source": [
    "dicom_data.info()"
   ]
  },
  {
   "cell_type": "markdown",
   "id": "debab73a",
   "metadata": {},
   "source": [
    "Trabajando con datos médicos en formato DICOM (Digital Imaging and Communications in Medicine). Vamos a descomponerlo para entenderlo paso a paso:\n",
    "\n",
    "   - **cropped_images = dicom_data[dicom_data.SeriesDescription == 'cropped images'].image_path:** Esta línea de código filtra los datos contenidos en dicom_data. Aquí hay una explicación detallada de lo que hace:\n",
    "\n",
    "   - **dicom_data:** Supongamos que dicom_data es un DataFrame de pandas que contiene información relacionada con imágenes médicas en formato DICOM. Cada fila del DataFrame representa una imagen médica y contiene columnas que describen varias propiedades de la imagen, como su descripción, ruta de archivo, etc.\n",
    "\n",
    "   - **dicom_data.SeriesDescription == 'cropped images':** Esto crea una máscara booleana que evalúa si la columna SeriesDescription del DataFrame es igual a la cadena 'cropped images'. La máscara tiene el mismo número de filas que el DataFrame original y contiene True en las filas donde la condición se cumple y False en las demás.\n",
    "\n",
    "   - **dicom_data[dicom_data.SeriesDescription == 'cropped images']:** Aplica la máscara booleana al DataFrame original para seleccionar solo las filas donde SeriesDescription es igual a 'cropped images'. En otras palabras, esto filtra el DataFrame original para retener solo las filas que corresponden a imágenes médicas con la descripción 'cropped images'.\n",
    "\n",
    "   - **.image_path:** Una vez que se ha aplicado la máscara y se ha obtenido un subconjunto del DataFrame, se accede a la columna image_path de ese subconjunto. Esto devuelve una serie de pandas que contiene las rutas de archivo de las imágenes médicas que cumplen con la condición.\n",
    "\n",
    "   - **cropped_images.head():** Esto muestra las primeras filas de la serie cropped_images, que contiene las rutas de archivo de las imágenes médicas con la descripción 'cropped images'.\n",
    "\n",
    "En resumen, esta línea de código filtra y selecciona las rutas de archivo de imágenes médicas que tienen la descripción 'cropped images' en el DataFrame dicom_data, y luego muestra las primeras filas de esas rutas de archivo. Esto puede ser útil para acceder y procesar específicamente las imágenes con esa descripción particular en tu conjunto de datos DICOM."
   ]
  },
  {
   "cell_type": "code",
   "execution_count": 9,
   "id": "81f01131",
   "metadata": {},
   "outputs": [
    {
     "data": {
      "text/plain": [
       "0     CBIS-DDSM/jpeg/1.3.6.1.4.1.9590.100.1.2.129308...\n",
       "3     CBIS-DDSM/jpeg/1.3.6.1.4.1.9590.100.1.2.381187...\n",
       "6     CBIS-DDSM/jpeg/1.3.6.1.4.1.9590.100.1.2.153339...\n",
       "7     CBIS-DDSM/jpeg/1.3.6.1.4.1.9590.100.1.2.178994...\n",
       "10    CBIS-DDSM/jpeg/1.3.6.1.4.1.9590.100.1.2.411833...\n",
       "Name: image_path, dtype: object"
      ]
     },
     "execution_count": 9,
     "metadata": {},
     "output_type": "execute_result"
    }
   ],
   "source": [
    "cropped_images = dicom_data[dicom_data.SeriesDescription == 'cropped images'].image_path\n",
    "cropped_images.head()"
   ]
  },
  {
   "cell_type": "code",
   "execution_count": 10,
   "id": "90d19b42",
   "metadata": {},
   "outputs": [
    {
     "data": {
      "text/plain": [
       "0     jpeg/1.3.6.1.4.1.9590.100.1.2.1293087268128519...\n",
       "3     jpeg/1.3.6.1.4.1.9590.100.1.2.3811873696115245...\n",
       "6     jpeg/1.3.6.1.4.1.9590.100.1.2.1533390529131213...\n",
       "7     jpeg/1.3.6.1.4.1.9590.100.1.2.1789947146114851...\n",
       "10    jpeg/1.3.6.1.4.1.9590.100.1.2.4118334926123736...\n",
       "Name: image_path, dtype: object"
      ]
     },
     "execution_count": 10,
     "metadata": {},
     "output_type": "execute_result"
    }
   ],
   "source": [
    "cropped_images = cropped_images.apply(lambda x: x.replace('CBIS-DDSM/jpeg', image_dir))\n",
    "cropped_images.head()"
   ]
  },
  {
   "cell_type": "markdown",
   "id": "0fa59469",
   "metadata": {},
   "source": [
    "Es un bucle que procesa las primeras 1000 imágenes contenidas en la serie cropped_images. Aquí está la descripción de lo que hace paso a paso:\n",
    "\n",
    "- **for file in cropped_images[0:10]::** Este bucle for itera a través de las primeras 10 rutas de archivo de imágenes médicas contenidas en la serie cropped_images.\n",
    "\n",
    "- **cropped_images_show = PIL.Image.open(file):** Dentro del bucle, se utiliza la biblioteca PIL (Python Imaging Library) para abrir cada imagen. La ruta de archivo de la imagen actual se almacena en la variable file. La imagen se abre utilizando PIL.Image.open(file) y se guarda en la variable cropped_images_show.\n",
    "\n",
    "- **gray_img = cropped_images_show.convert(\"L\"):** Después de abrir la imagen, se convierte a escala de grises utilizando el método .convert(\"L\") de la biblioteca PIL. Esto significa que la imagen se representará en blanco y negro en lugar de color.\n",
    "\n",
    "- **plt.imshow(gray_img, cmap='gray'):** Finalmente, se utiliza Matplotlib (plt) para mostrar la imagen en escala de grises. La función plt.imshow() se utiliza para mostrar la imagen, y se especifica cmap='gray' para asegurarse de que se muestre correctamente en escala de grises.\n",
    "\n",
    "En resumen, este bucle procesa y muestra las primeras 1000 imágenes médicas con la descripción 'cropped images' en escala de grises utilizando la biblioteca PIL y Matplotlib. Cada imagen se carga, se convierte a escala de grises y se muestra en una ventana gráfica. Esto puede ser útil para visualizar y analizar las imágenes médicas contenidas en el conjunto de datos."
   ]
  },
  {
   "cell_type": "code",
   "execution_count": 19,
   "id": "2329fb01",
   "metadata": {},
   "outputs": [
    {
     "data": {
      "image/png": "[encoded data removed]",
      "text/plain": [
       "<Figure size 640x480 with 1 Axes>"
      ]
     },
     "metadata": {},
     "output_type": "display_data"
    }
   ],
   "source": [
    "for file in cropped_images[0:10]:\n",
    "    cropped_images_show = PIL.Image.open(file)\n",
    "    gray_img= cropped_images_show.convert(\"L\")\n",
    "    plt.imshow(gray_img, cmap='gray')"
   ]
  },
  {
   "cell_type": "code",
   "execution_count": 17,
   "id": "f2be282a",
   "metadata": {},
   "outputs": [
    {
     "data": {
      "text/plain": [
       "1     CBIS-DDSM/jpeg/1.3.6.1.4.1.9590.100.1.2.248386...\n",
       "2     CBIS-DDSM/jpeg/1.3.6.1.4.1.9590.100.1.2.267213...\n",
       "11    CBIS-DDSM/jpeg/1.3.6.1.4.1.9590.100.1.2.210396...\n",
       "12    CBIS-DDSM/jpeg/1.3.6.1.4.1.9590.100.1.2.749566...\n",
       "15    CBIS-DDSM/jpeg/1.3.6.1.4.1.9590.100.1.2.987658...\n",
       "Name: image_path, dtype: object"
      ]
     },
     "execution_count": 17,
     "metadata": {},
     "output_type": "execute_result"
    }
   ],
   "source": [
    "full_mammogram_images = dicom_data[dicom_data.SeriesDescription == 'full mammogram images'].image_path\n",
    "full_mammogram_images.head()"
   ]
  },
  {
   "cell_type": "code",
   "execution_count": 18,
   "id": "e9db5754",
   "metadata": {},
   "outputs": [
    {
     "data": {
      "text/plain": [
       "1     jpeg/1.3.6.1.4.1.9590.100.1.2.2483867420106785...\n",
       "2     jpeg/1.3.6.1.4.1.9590.100.1.2.2672131710111718...\n",
       "11    jpeg/1.3.6.1.4.1.9590.100.1.2.2103968939112343...\n",
       "12    jpeg/1.3.6.1.4.1.9590.100.1.2.7495665831138395...\n",
       "15    jpeg/1.3.6.1.4.1.9590.100.1.2.9876588541294641...\n",
       "Name: image_path, dtype: object"
      ]
     },
     "execution_count": 18,
     "metadata": {},
     "output_type": "execute_result"
    }
   ],
   "source": [
    "full_mammogram_images = full_mammogram_images.apply(lambda x: x.replace('CBIS-DDSM/jpeg', image_dir))\n",
    "full_mammogram_images.head()"
   ]
  },
  {
   "cell_type": "code",
   "execution_count": 20,
   "id": "65460e0f",
   "metadata": {},
   "outputs": [
    {
     "data": {
      "image/png": "[encoded data removed]",
      "text/plain": [
       "<Figure size 640x480 with 1 Axes>"
      ]
     },
     "metadata": {},
     "output_type": "display_data"
    }
   ],
   "source": [
    "for file  in full_mammogram_images[0:10]:\n",
    "    full_mammogram_images_show = PIL.Image.open(file)\n",
    "    gray_img= full_mammogram_images_show.convert(\"L\")\n",
    "    plt.imshow(gray_img, cmap='gray')"
   ]
  },
  {
   "cell_type": "code",
   "execution_count": 25,
   "id": "cd221157",
   "metadata": {},
   "outputs": [
    {
     "data": {
      "text/plain": [
       "5     CBIS-DDSM/jpeg/1.3.6.1.4.1.9590.100.1.2.153339...\n",
       "8     CBIS-DDSM/jpeg/1.3.6.1.4.1.9590.100.1.2.178994...\n",
       "9     CBIS-DDSM/jpeg/1.3.6.1.4.1.9590.100.1.2.411833...\n",
       "14    CBIS-DDSM/jpeg/1.3.6.1.4.1.9590.100.1.2.236373...\n",
       "20    CBIS-DDSM/jpeg/1.3.6.1.4.1.9590.100.1.2.357008...\n",
       "Name: image_path, dtype: object"
      ]
     },
     "execution_count": 25,
     "metadata": {},
     "output_type": "execute_result"
    }
   ],
   "source": [
    "ROI_mask_images = dicom_data[dicom_data.SeriesDescription == 'ROI mask images'].image_path\n",
    "ROI_mask_images.head()"
   ]
  },
  {
   "cell_type": "code",
   "execution_count": 26,
   "id": "62718825",
   "metadata": {},
   "outputs": [
    {
     "data": {
      "text/plain": [
       "5     jpeg/1.3.6.1.4.1.9590.100.1.2.1533390529131213...\n",
       "8     jpeg/1.3.6.1.4.1.9590.100.1.2.1789947146114851...\n",
       "9     jpeg/1.3.6.1.4.1.9590.100.1.2.4118334926123736...\n",
       "14    jpeg/1.3.6.1.4.1.9590.100.1.2.2363735487129941...\n",
       "20    jpeg/1.3.6.1.4.1.9590.100.1.2.3570080504125347...\n",
       "Name: image_path, dtype: object"
      ]
     },
     "execution_count": 26,
     "metadata": {},
     "output_type": "execute_result"
    }
   ],
   "source": [
    "ROI_mask_images = ROI_mask_images.apply(lambda x: x.replace('CBIS-DDSM/jpeg', image_dir))\n",
    "ROI_mask_images.head()"
   ]
  },
  {
   "cell_type": "code",
   "execution_count": 27,
   "id": "2c305385",
   "metadata": {},
   "outputs": [
    {
     "data": {
      "image/png": "[encoded data removed]",
      "text/plain": [
       "<Figure size 640x480 with 1 Axes>"
      ]
     },
     "metadata": {},
     "output_type": "display_data"
    }
   ],
   "source": [
    "for file  in ROI_mask_images[0:10]:\n",
    "    ROI_mask_images_show = PIL.Image.open(file)\n",
    "    gray_img= ROI_mask_images_show.convert(\"L\")\n",
    "    plt.imshow(gray_img, cmap='gray')"
   ]
  },
  {
   "cell_type": "code",
   "execution_count": 28,
   "id": "f25572af",
   "metadata": {},
   "outputs": [
    {
     "data": {
      "text/html": [
       "<div>\n",
       "<style scoped>\n",
       "    .dataframe tbody tr th:only-of-type {\n",
       "        vertical-align: middle;\n",
       "    }\n",
       "\n",
       "    .dataframe tbody tr th {\n",
       "        vertical-align: top;\n",
       "    }\n",
       "\n",
       "    .dataframe thead th {\n",
       "        text-align: right;\n",
       "    }\n",
       "</style>\n",
       "<table border=\"1\" class=\"dataframe\">\n",
       "  <thead>\n",
       "    <tr style=\"text-align: right;\">\n",
       "      <th></th>\n",
       "      <th>patient_id</th>\n",
       "      <th>breast density</th>\n",
       "      <th>left or right breast</th>\n",
       "      <th>image view</th>\n",
       "      <th>abnormality id</th>\n",
       "      <th>abnormality type</th>\n",
       "      <th>calc type</th>\n",
       "      <th>calc distribution</th>\n",
       "      <th>assessment</th>\n",
       "      <th>pathology</th>\n",
       "      <th>subtlety</th>\n",
       "      <th>image file path</th>\n",
       "      <th>cropped image file path</th>\n",
       "      <th>ROI mask file path</th>\n",
       "    </tr>\n",
       "  </thead>\n",
       "  <tbody>\n",
       "    <tr>\n",
       "      <th>0</th>\n",
       "      <td>P_00005</td>\n",
       "      <td>3</td>\n",
       "      <td>RIGHT</td>\n",
       "      <td>CC</td>\n",
       "      <td>1</td>\n",
       "      <td>calcification</td>\n",
       "      <td>AMORPHOUS</td>\n",
       "      <td>CLUSTERED</td>\n",
       "      <td>3</td>\n",
       "      <td>MALIGNANT</td>\n",
       "      <td>3</td>\n",
       "      <td>Calc-Training_P_00005_RIGHT_CC/1.3.6.1.4.1.959...</td>\n",
       "      <td>Calc-Training_P_00005_RIGHT_CC_1/1.3.6.1.4.1.9...</td>\n",
       "      <td>Calc-Training_P_00005_RIGHT_CC_1/1.3.6.1.4.1.9...</td>\n",
       "    </tr>\n",
       "    <tr>\n",
       "      <th>1</th>\n",
       "      <td>P_00005</td>\n",
       "      <td>3</td>\n",
       "      <td>RIGHT</td>\n",
       "      <td>MLO</td>\n",
       "      <td>1</td>\n",
       "      <td>calcification</td>\n",
       "      <td>AMORPHOUS</td>\n",
       "      <td>CLUSTERED</td>\n",
       "      <td>3</td>\n",
       "      <td>MALIGNANT</td>\n",
       "      <td>3</td>\n",
       "      <td>Calc-Training_P_00005_RIGHT_MLO/1.3.6.1.4.1.95...</td>\n",
       "      <td>Calc-Training_P_00005_RIGHT_MLO_1/1.3.6.1.4.1....</td>\n",
       "      <td>Calc-Training_P_00005_RIGHT_MLO_1/1.3.6.1.4.1....</td>\n",
       "    </tr>\n",
       "    <tr>\n",
       "      <th>2</th>\n",
       "      <td>P_00007</td>\n",
       "      <td>4</td>\n",
       "      <td>LEFT</td>\n",
       "      <td>CC</td>\n",
       "      <td>1</td>\n",
       "      <td>calcification</td>\n",
       "      <td>PLEOMORPHIC</td>\n",
       "      <td>LINEAR</td>\n",
       "      <td>4</td>\n",
       "      <td>BENIGN</td>\n",
       "      <td>4</td>\n",
       "      <td>Calc-Training_P_00007_LEFT_CC/1.3.6.1.4.1.9590...</td>\n",
       "      <td>Calc-Training_P_00007_LEFT_CC_1/1.3.6.1.4.1.95...</td>\n",
       "      <td>Calc-Training_P_00007_LEFT_CC_1/1.3.6.1.4.1.95...</td>\n",
       "    </tr>\n",
       "    <tr>\n",
       "      <th>3</th>\n",
       "      <td>P_00007</td>\n",
       "      <td>4</td>\n",
       "      <td>LEFT</td>\n",
       "      <td>MLO</td>\n",
       "      <td>1</td>\n",
       "      <td>calcification</td>\n",
       "      <td>PLEOMORPHIC</td>\n",
       "      <td>LINEAR</td>\n",
       "      <td>4</td>\n",
       "      <td>BENIGN</td>\n",
       "      <td>4</td>\n",
       "      <td>Calc-Training_P_00007_LEFT_MLO/1.3.6.1.4.1.959...</td>\n",
       "      <td>Calc-Training_P_00007_LEFT_MLO_1/1.3.6.1.4.1.9...</td>\n",
       "      <td>Calc-Training_P_00007_LEFT_MLO_1/1.3.6.1.4.1.9...</td>\n",
       "    </tr>\n",
       "    <tr>\n",
       "      <th>4</th>\n",
       "      <td>P_00008</td>\n",
       "      <td>1</td>\n",
       "      <td>LEFT</td>\n",
       "      <td>CC</td>\n",
       "      <td>1</td>\n",
       "      <td>calcification</td>\n",
       "      <td>NaN</td>\n",
       "      <td>REGIONAL</td>\n",
       "      <td>2</td>\n",
       "      <td>BENIGN_WITHOUT_CALLBACK</td>\n",
       "      <td>3</td>\n",
       "      <td>Calc-Training_P_00008_LEFT_CC/1.3.6.1.4.1.9590...</td>\n",
       "      <td>Calc-Training_P_00008_LEFT_CC_1/1.3.6.1.4.1.95...</td>\n",
       "      <td>Calc-Training_P_00008_LEFT_CC_1/1.3.6.1.4.1.95...</td>\n",
       "    </tr>\n",
       "  </tbody>\n",
       "</table>\n",
       "</div>"
      ],
      "text/plain": [
       "  patient_id  breast density left or right breast image view  abnormality id  \\\n",
       "0    P_00005               3                RIGHT         CC               1   \n",
       "1    P_00005               3                RIGHT        MLO               1   \n",
       "2    P_00007               4                 LEFT         CC               1   \n",
       "3    P_00007               4                 LEFT        MLO               1   \n",
       "4    P_00008               1                 LEFT         CC               1   \n",
       "\n",
       "  abnormality type    calc type calc distribution  assessment  \\\n",
       "0    calcification    AMORPHOUS         CLUSTERED           3   \n",
       "1    calcification    AMORPHOUS         CLUSTERED           3   \n",
       "2    calcification  PLEOMORPHIC            LINEAR           4   \n",
       "3    calcification  PLEOMORPHIC            LINEAR           4   \n",
       "4    calcification          NaN          REGIONAL           2   \n",
       "\n",
       "                 pathology  subtlety  \\\n",
       "0                MALIGNANT         3   \n",
       "1                MALIGNANT         3   \n",
       "2                   BENIGN         4   \n",
       "3                   BENIGN         4   \n",
       "4  BENIGN_WITHOUT_CALLBACK         3   \n",
       "\n",
       "                                     image file path  \\\n",
       "0  Calc-Training_P_00005_RIGHT_CC/1.3.6.1.4.1.959...   \n",
       "1  Calc-Training_P_00005_RIGHT_MLO/1.3.6.1.4.1.95...   \n",
       "2  Calc-Training_P_00007_LEFT_CC/1.3.6.1.4.1.9590...   \n",
       "3  Calc-Training_P_00007_LEFT_MLO/1.3.6.1.4.1.959...   \n",
       "4  Calc-Training_P_00008_LEFT_CC/1.3.6.1.4.1.9590...   \n",
       "\n",
       "                             cropped image file path  \\\n",
       "0  Calc-Training_P_00005_RIGHT_CC_1/1.3.6.1.4.1.9...   \n",
       "1  Calc-Training_P_00005_RIGHT_MLO_1/1.3.6.1.4.1....   \n",
       "2  Calc-Training_P_00007_LEFT_CC_1/1.3.6.1.4.1.95...   \n",
       "3  Calc-Training_P_00007_LEFT_MLO_1/1.3.6.1.4.1.9...   \n",
       "4  Calc-Training_P_00008_LEFT_CC_1/1.3.6.1.4.1.95...   \n",
       "\n",
       "                                  ROI mask file path  \n",
       "0  Calc-Training_P_00005_RIGHT_CC_1/1.3.6.1.4.1.9...  \n",
       "1  Calc-Training_P_00005_RIGHT_MLO_1/1.3.6.1.4.1....  \n",
       "2  Calc-Training_P_00007_LEFT_CC_1/1.3.6.1.4.1.95...  \n",
       "3  Calc-Training_P_00007_LEFT_MLO_1/1.3.6.1.4.1.9...  \n",
       "4  Calc-Training_P_00008_LEFT_CC_1/1.3.6.1.4.1.95...  "
      ]
     },
     "execution_count": 28,
     "metadata": {},
     "output_type": "execute_result"
    }
   ],
   "source": [
    "calc_case_df = pd.read_csv('csv/calc_case_description_train_set.csv')\n",
    "calc_case_df.head(5)"
   ]
  },
  {
   "cell_type": "code",
   "execution_count": 29,
   "id": "47615dec",
   "metadata": {},
   "outputs": [
    {
     "data": {
      "text/html": [
       "<div>\n",
       "<style scoped>\n",
       "    .dataframe tbody tr th:only-of-type {\n",
       "        vertical-align: middle;\n",
       "    }\n",
       "\n",
       "    .dataframe tbody tr th {\n",
       "        vertical-align: top;\n",
       "    }\n",
       "\n",
       "    .dataframe thead th {\n",
       "        text-align: right;\n",
       "    }\n",
       "</style>\n",
       "<table border=\"1\" class=\"dataframe\">\n",
       "  <thead>\n",
       "    <tr style=\"text-align: right;\">\n",
       "      <th></th>\n",
       "      <th>patient_id</th>\n",
       "      <th>breast_density</th>\n",
       "      <th>left or right breast</th>\n",
       "      <th>image view</th>\n",
       "      <th>abnormality id</th>\n",
       "      <th>abnormality type</th>\n",
       "      <th>mass shape</th>\n",
       "      <th>mass margins</th>\n",
       "      <th>assessment</th>\n",
       "      <th>pathology</th>\n",
       "      <th>subtlety</th>\n",
       "      <th>image file path</th>\n",
       "      <th>cropped image file path</th>\n",
       "      <th>ROI mask file path</th>\n",
       "    </tr>\n",
       "  </thead>\n",
       "  <tbody>\n",
       "    <tr>\n",
       "      <th>0</th>\n",
       "      <td>P_00001</td>\n",
       "      <td>3</td>\n",
       "      <td>LEFT</td>\n",
       "      <td>CC</td>\n",
       "      <td>1</td>\n",
       "      <td>mass</td>\n",
       "      <td>IRREGULAR-ARCHITECTURAL_DISTORTION</td>\n",
       "      <td>SPICULATED</td>\n",
       "      <td>4</td>\n",
       "      <td>MALIGNANT</td>\n",
       "      <td>4</td>\n",
       "      <td>Mass-Training_P_00001_LEFT_CC/1.3.6.1.4.1.9590...</td>\n",
       "      <td>Mass-Training_P_00001_LEFT_CC_1/1.3.6.1.4.1.95...</td>\n",
       "      <td>Mass-Training_P_00001_LEFT_CC_1/1.3.6.1.4.1.95...</td>\n",
       "    </tr>\n",
       "    <tr>\n",
       "      <th>1</th>\n",
       "      <td>P_00001</td>\n",
       "      <td>3</td>\n",
       "      <td>LEFT</td>\n",
       "      <td>MLO</td>\n",
       "      <td>1</td>\n",
       "      <td>mass</td>\n",
       "      <td>IRREGULAR-ARCHITECTURAL_DISTORTION</td>\n",
       "      <td>SPICULATED</td>\n",
       "      <td>4</td>\n",
       "      <td>MALIGNANT</td>\n",
       "      <td>4</td>\n",
       "      <td>Mass-Training_P_00001_LEFT_MLO/1.3.6.1.4.1.959...</td>\n",
       "      <td>Mass-Training_P_00001_LEFT_MLO_1/1.3.6.1.4.1.9...</td>\n",
       "      <td>Mass-Training_P_00001_LEFT_MLO_1/1.3.6.1.4.1.9...</td>\n",
       "    </tr>\n",
       "    <tr>\n",
       "      <th>2</th>\n",
       "      <td>P_00004</td>\n",
       "      <td>3</td>\n",
       "      <td>LEFT</td>\n",
       "      <td>CC</td>\n",
       "      <td>1</td>\n",
       "      <td>mass</td>\n",
       "      <td>ARCHITECTURAL_DISTORTION</td>\n",
       "      <td>ILL_DEFINED</td>\n",
       "      <td>4</td>\n",
       "      <td>BENIGN</td>\n",
       "      <td>3</td>\n",
       "      <td>Mass-Training_P_00004_LEFT_CC/1.3.6.1.4.1.9590...</td>\n",
       "      <td>Mass-Training_P_00004_LEFT_CC_1/1.3.6.1.4.1.95...</td>\n",
       "      <td>Mass-Training_P_00004_LEFT_CC_1/1.3.6.1.4.1.95...</td>\n",
       "    </tr>\n",
       "    <tr>\n",
       "      <th>3</th>\n",
       "      <td>P_00004</td>\n",
       "      <td>3</td>\n",
       "      <td>LEFT</td>\n",
       "      <td>MLO</td>\n",
       "      <td>1</td>\n",
       "      <td>mass</td>\n",
       "      <td>ARCHITECTURAL_DISTORTION</td>\n",
       "      <td>ILL_DEFINED</td>\n",
       "      <td>4</td>\n",
       "      <td>BENIGN</td>\n",
       "      <td>3</td>\n",
       "      <td>Mass-Training_P_00004_LEFT_MLO/1.3.6.1.4.1.959...</td>\n",
       "      <td>Mass-Training_P_00004_LEFT_MLO_1/1.3.6.1.4.1.9...</td>\n",
       "      <td>Mass-Training_P_00004_LEFT_MLO_1/1.3.6.1.4.1.9...</td>\n",
       "    </tr>\n",
       "    <tr>\n",
       "      <th>4</th>\n",
       "      <td>P_00004</td>\n",
       "      <td>3</td>\n",
       "      <td>RIGHT</td>\n",
       "      <td>MLO</td>\n",
       "      <td>1</td>\n",
       "      <td>mass</td>\n",
       "      <td>OVAL</td>\n",
       "      <td>CIRCUMSCRIBED</td>\n",
       "      <td>4</td>\n",
       "      <td>BENIGN</td>\n",
       "      <td>5</td>\n",
       "      <td>Mass-Training_P_00004_RIGHT_MLO/1.3.6.1.4.1.95...</td>\n",
       "      <td>Mass-Training_P_00004_RIGHT_MLO_1/1.3.6.1.4.1....</td>\n",
       "      <td>Mass-Training_P_00004_RIGHT_MLO_1/1.3.6.1.4.1....</td>\n",
       "    </tr>\n",
       "  </tbody>\n",
       "</table>\n",
       "</div>"
      ],
      "text/plain": [
       "  patient_id  breast_density left or right breast image view  abnormality id  \\\n",
       "0    P_00001               3                 LEFT         CC               1   \n",
       "1    P_00001               3                 LEFT        MLO               1   \n",
       "2    P_00004               3                 LEFT         CC               1   \n",
       "3    P_00004               3                 LEFT        MLO               1   \n",
       "4    P_00004               3                RIGHT        MLO               1   \n",
       "\n",
       "  abnormality type                          mass shape   mass margins  \\\n",
       "0             mass  IRREGULAR-ARCHITECTURAL_DISTORTION     SPICULATED   \n",
       "1             mass  IRREGULAR-ARCHITECTURAL_DISTORTION     SPICULATED   \n",
       "2             mass            ARCHITECTURAL_DISTORTION    ILL_DEFINED   \n",
       "3             mass            ARCHITECTURAL_DISTORTION    ILL_DEFINED   \n",
       "4             mass                                OVAL  CIRCUMSCRIBED   \n",
       "\n",
       "   assessment  pathology  subtlety  \\\n",
       "0           4  MALIGNANT         4   \n",
       "1           4  MALIGNANT         4   \n",
       "2           4     BENIGN         3   \n",
       "3           4     BENIGN         3   \n",
       "4           4     BENIGN         5   \n",
       "\n",
       "                                     image file path  \\\n",
       "0  Mass-Training_P_00001_LEFT_CC/1.3.6.1.4.1.9590...   \n",
       "1  Mass-Training_P_00001_LEFT_MLO/1.3.6.1.4.1.959...   \n",
       "2  Mass-Training_P_00004_LEFT_CC/1.3.6.1.4.1.9590...   \n",
       "3  Mass-Training_P_00004_LEFT_MLO/1.3.6.1.4.1.959...   \n",
       "4  Mass-Training_P_00004_RIGHT_MLO/1.3.6.1.4.1.95...   \n",
       "\n",
       "                             cropped image file path  \\\n",
       "0  Mass-Training_P_00001_LEFT_CC_1/1.3.6.1.4.1.95...   \n",
       "1  Mass-Training_P_00001_LEFT_MLO_1/1.3.6.1.4.1.9...   \n",
       "2  Mass-Training_P_00004_LEFT_CC_1/1.3.6.1.4.1.95...   \n",
       "3  Mass-Training_P_00004_LEFT_MLO_1/1.3.6.1.4.1.9...   \n",
       "4  Mass-Training_P_00004_RIGHT_MLO_1/1.3.6.1.4.1....   \n",
       "\n",
       "                                  ROI mask file path  \n",
       "0  Mass-Training_P_00001_LEFT_CC_1/1.3.6.1.4.1.95...  \n",
       "1  Mass-Training_P_00001_LEFT_MLO_1/1.3.6.1.4.1.9...  \n",
       "2  Mass-Training_P_00004_LEFT_CC_1/1.3.6.1.4.1.95...  \n",
       "3  Mass-Training_P_00004_LEFT_MLO_1/1.3.6.1.4.1.9...  \n",
       "4  Mass-Training_P_00004_RIGHT_MLO_1/1.3.6.1.4.1....  "
      ]
     },
     "execution_count": 29,
     "metadata": {},
     "output_type": "execute_result"
    }
   ],
   "source": [
    "mass_case_df = pd.read_csv('csv/mass_case_description_train_set.csv')\n",
    "mass_case_df.head(5)"
   ]
  },
  {
   "cell_type": "code",
   "execution_count": 30,
   "id": "cc45b299",
   "metadata": {},
   "outputs": [
    {
     "data": {
      "text/html": [
       "<div>\n",
       "<style scoped>\n",
       "    .dataframe tbody tr th:only-of-type {\n",
       "        vertical-align: middle;\n",
       "    }\n",
       "\n",
       "    .dataframe tbody tr th {\n",
       "        vertical-align: top;\n",
       "    }\n",
       "\n",
       "    .dataframe thead th {\n",
       "        text-align: right;\n",
       "    }\n",
       "</style>\n",
       "<table border=\"1\" class=\"dataframe\">\n",
       "  <thead>\n",
       "    <tr style=\"text-align: right;\">\n",
       "      <th></th>\n",
       "      <th>file_path</th>\n",
       "      <th>image_path</th>\n",
       "      <th>AccessionNumber</th>\n",
       "      <th>BitsAllocated</th>\n",
       "      <th>BitsStored</th>\n",
       "      <th>BodyPartExamined</th>\n",
       "      <th>Columns</th>\n",
       "      <th>ContentDate</th>\n",
       "      <th>ContentTime</th>\n",
       "      <th>ConversionType</th>\n",
       "      <th>...</th>\n",
       "      <th>SecondaryCaptureDeviceManufacturerModelName</th>\n",
       "      <th>SeriesDescription</th>\n",
       "      <th>SeriesInstanceUID</th>\n",
       "      <th>SeriesNumber</th>\n",
       "      <th>SmallestImagePixelValue</th>\n",
       "      <th>SpecificCharacterSet</th>\n",
       "      <th>StudyDate</th>\n",
       "      <th>StudyID</th>\n",
       "      <th>StudyInstanceUID</th>\n",
       "      <th>StudyTime</th>\n",
       "    </tr>\n",
       "  </thead>\n",
       "  <tbody>\n",
       "    <tr>\n",
       "      <th>0</th>\n",
       "      <td>CBIS-DDSM/dicom/1.3.6.1.4.1.9590.100.1.2.12930...</td>\n",
       "      <td>CBIS-DDSM/jpeg/1.3.6.1.4.1.9590.100.1.2.129308...</td>\n",
       "      <td>NaN</td>\n",
       "      <td>16</td>\n",
       "      <td>16</td>\n",
       "      <td>BREAST</td>\n",
       "      <td>351</td>\n",
       "      <td>20160426</td>\n",
       "      <td>131732.685</td>\n",
       "      <td>WSD</td>\n",
       "      <td>...</td>\n",
       "      <td>MATLAB</td>\n",
       "      <td>cropped images</td>\n",
       "      <td>1.3.6.1.4.1.9590.100.1.2.129308726812851964007...</td>\n",
       "      <td>1</td>\n",
       "      <td>23078</td>\n",
       "      <td>ISO_IR 100</td>\n",
       "      <td>20160720.0</td>\n",
       "      <td>DDSM</td>\n",
       "      <td>1.3.6.1.4.1.9590.100.1.2.271867287611061855725...</td>\n",
       "      <td>214951.0</td>\n",
       "    </tr>\n",
       "    <tr>\n",
       "      <th>1</th>\n",
       "      <td>CBIS-DDSM/dicom/1.3.6.1.4.1.9590.100.1.2.24838...</td>\n",
       "      <td>CBIS-DDSM/jpeg/1.3.6.1.4.1.9590.100.1.2.248386...</td>\n",
       "      <td>NaN</td>\n",
       "      <td>16</td>\n",
       "      <td>16</td>\n",
       "      <td>BREAST</td>\n",
       "      <td>3526</td>\n",
       "      <td>20160426</td>\n",
       "      <td>143829.101</td>\n",
       "      <td>WSD</td>\n",
       "      <td>...</td>\n",
       "      <td>MATLAB</td>\n",
       "      <td>full mammogram images</td>\n",
       "      <td>1.3.6.1.4.1.9590.100.1.2.248386742010678582309...</td>\n",
       "      <td>1</td>\n",
       "      <td>0</td>\n",
       "      <td>ISO_IR 100</td>\n",
       "      <td>20160720.0</td>\n",
       "      <td>DDSM</td>\n",
       "      <td>1.3.6.1.4.1.9590.100.1.2.161516517311681906612...</td>\n",
       "      <td>193426.0</td>\n",
       "    </tr>\n",
       "    <tr>\n",
       "      <th>2</th>\n",
       "      <td>CBIS-DDSM/dicom/1.3.6.1.4.1.9590.100.1.2.26721...</td>\n",
       "      <td>CBIS-DDSM/jpeg/1.3.6.1.4.1.9590.100.1.2.267213...</td>\n",
       "      <td>NaN</td>\n",
       "      <td>16</td>\n",
       "      <td>16</td>\n",
       "      <td>BREAST</td>\n",
       "      <td>1546</td>\n",
       "      <td>20160503</td>\n",
       "      <td>111956.298</td>\n",
       "      <td>WSD</td>\n",
       "      <td>...</td>\n",
       "      <td>MATLAB</td>\n",
       "      <td>full mammogram images</td>\n",
       "      <td>1.3.6.1.4.1.9590.100.1.2.267213171011171858918...</td>\n",
       "      <td>1</td>\n",
       "      <td>0</td>\n",
       "      <td>ISO_IR 100</td>\n",
       "      <td>20160807.0</td>\n",
       "      <td>DDSM</td>\n",
       "      <td>1.3.6.1.4.1.9590.100.1.2.291043622711253836701...</td>\n",
       "      <td>161814.0</td>\n",
       "    </tr>\n",
       "    <tr>\n",
       "      <th>3</th>\n",
       "      <td>CBIS-DDSM/dicom/1.3.6.1.4.1.9590.100.1.2.38118...</td>\n",
       "      <td>CBIS-DDSM/jpeg/1.3.6.1.4.1.9590.100.1.2.381187...</td>\n",
       "      <td>NaN</td>\n",
       "      <td>16</td>\n",
       "      <td>16</td>\n",
       "      <td>BREAST</td>\n",
       "      <td>97</td>\n",
       "      <td>20160503</td>\n",
       "      <td>115347.770</td>\n",
       "      <td>WSD</td>\n",
       "      <td>...</td>\n",
       "      <td>MATLAB</td>\n",
       "      <td>cropped images</td>\n",
       "      <td>1.3.6.1.4.1.9590.100.1.2.381187369611524586537...</td>\n",
       "      <td>1</td>\n",
       "      <td>32298</td>\n",
       "      <td>ISO_IR 100</td>\n",
       "      <td>20170829.0</td>\n",
       "      <td>DDSM</td>\n",
       "      <td>1.3.6.1.4.1.9590.100.1.2.335006093711888937440...</td>\n",
       "      <td>180109.0</td>\n",
       "    </tr>\n",
       "    <tr>\n",
       "      <th>4</th>\n",
       "      <td>CBIS-DDSM/dicom/1.3.6.1.4.1.9590.100.1.2.38118...</td>\n",
       "      <td>CBIS-DDSM/jpeg/1.3.6.1.4.1.9590.100.1.2.381187...</td>\n",
       "      <td>NaN</td>\n",
       "      <td>8</td>\n",
       "      <td>8</td>\n",
       "      <td>Left Breast</td>\n",
       "      <td>3104</td>\n",
       "      <td>20160503</td>\n",
       "      <td>115347.770</td>\n",
       "      <td>WSD</td>\n",
       "      <td>...</td>\n",
       "      <td>MATLAB</td>\n",
       "      <td>NaN</td>\n",
       "      <td>1.3.6.1.4.1.9590.100.1.2.381187369611524586537...</td>\n",
       "      <td>1</td>\n",
       "      <td>0</td>\n",
       "      <td>ISO_IR 100</td>\n",
       "      <td>NaN</td>\n",
       "      <td>DDSM</td>\n",
       "      <td>1.3.6.1.4.1.9590.100.1.2.335006093711888937440...</td>\n",
       "      <td>NaN</td>\n",
       "    </tr>\n",
       "  </tbody>\n",
       "</table>\n",
       "<p>5 rows × 38 columns</p>\n",
       "</div>"
      ],
      "text/plain": [
       "                                           file_path  \\\n",
       "0  CBIS-DDSM/dicom/1.3.6.1.4.1.9590.100.1.2.12930...   \n",
       "1  CBIS-DDSM/dicom/1.3.6.1.4.1.9590.100.1.2.24838...   \n",
       "2  CBIS-DDSM/dicom/1.3.6.1.4.1.9590.100.1.2.26721...   \n",
       "3  CBIS-DDSM/dicom/1.3.6.1.4.1.9590.100.1.2.38118...   \n",
       "4  CBIS-DDSM/dicom/1.3.6.1.4.1.9590.100.1.2.38118...   \n",
       "\n",
       "                                          image_path  AccessionNumber  \\\n",
       "0  CBIS-DDSM/jpeg/1.3.6.1.4.1.9590.100.1.2.129308...              NaN   \n",
       "1  CBIS-DDSM/jpeg/1.3.6.1.4.1.9590.100.1.2.248386...              NaN   \n",
       "2  CBIS-DDSM/jpeg/1.3.6.1.4.1.9590.100.1.2.267213...              NaN   \n",
       "3  CBIS-DDSM/jpeg/1.3.6.1.4.1.9590.100.1.2.381187...              NaN   \n",
       "4  CBIS-DDSM/jpeg/1.3.6.1.4.1.9590.100.1.2.381187...              NaN   \n",
       "\n",
       "   BitsAllocated  BitsStored BodyPartExamined  Columns  ContentDate  \\\n",
       "0             16          16           BREAST      351     20160426   \n",
       "1             16          16           BREAST     3526     20160426   \n",
       "2             16          16           BREAST     1546     20160503   \n",
       "3             16          16           BREAST       97     20160503   \n",
       "4              8           8      Left Breast     3104     20160503   \n",
       "\n",
       "   ContentTime ConversionType  ...  \\\n",
       "0   131732.685            WSD  ...   \n",
       "1   143829.101            WSD  ...   \n",
       "2   111956.298            WSD  ...   \n",
       "3   115347.770            WSD  ...   \n",
       "4   115347.770            WSD  ...   \n",
       "\n",
       "   SecondaryCaptureDeviceManufacturerModelName      SeriesDescription  \\\n",
       "0                                       MATLAB         cropped images   \n",
       "1                                       MATLAB  full mammogram images   \n",
       "2                                       MATLAB  full mammogram images   \n",
       "3                                       MATLAB         cropped images   \n",
       "4                                       MATLAB                    NaN   \n",
       "\n",
       "                                   SeriesInstanceUID SeriesNumber  \\\n",
       "0  1.3.6.1.4.1.9590.100.1.2.129308726812851964007...            1   \n",
       "1  1.3.6.1.4.1.9590.100.1.2.248386742010678582309...            1   \n",
       "2  1.3.6.1.4.1.9590.100.1.2.267213171011171858918...            1   \n",
       "3  1.3.6.1.4.1.9590.100.1.2.381187369611524586537...            1   \n",
       "4  1.3.6.1.4.1.9590.100.1.2.381187369611524586537...            1   \n",
       "\n",
       "  SmallestImagePixelValue  SpecificCharacterSet   StudyDate StudyID  \\\n",
       "0                   23078            ISO_IR 100  20160720.0    DDSM   \n",
       "1                       0            ISO_IR 100  20160720.0    DDSM   \n",
       "2                       0            ISO_IR 100  20160807.0    DDSM   \n",
       "3                   32298            ISO_IR 100  20170829.0    DDSM   \n",
       "4                       0            ISO_IR 100         NaN    DDSM   \n",
       "\n",
       "                                    StudyInstanceUID  StudyTime  \n",
       "0  1.3.6.1.4.1.9590.100.1.2.271867287611061855725...   214951.0  \n",
       "1  1.3.6.1.4.1.9590.100.1.2.161516517311681906612...   193426.0  \n",
       "2  1.3.6.1.4.1.9590.100.1.2.291043622711253836701...   161814.0  \n",
       "3  1.3.6.1.4.1.9590.100.1.2.335006093711888937440...   180109.0  \n",
       "4  1.3.6.1.4.1.9590.100.1.2.335006093711888937440...        NaN  \n",
       "\n",
       "[5 rows x 38 columns]"
      ]
     },
     "execution_count": 30,
     "metadata": {},
     "output_type": "execute_result"
    }
   ],
   "source": [
    "dicom_cleaned_data = dicom_data.copy()\n",
    "dicom_cleaned_data.head()"
   ]
  },
  {
   "cell_type": "code",
   "execution_count": 31,
   "id": "45477dc0",
   "metadata": {},
   "outputs": [
    {
     "name": "stdout",
     "output_type": "stream",
     "text": [
      "<class 'pandas.core.frame.DataFrame'>\n",
      "RangeIndex: 10237 entries, 0 to 10236\n",
      "Data columns (total 21 columns):\n",
      " #   Column                                       Non-Null Count  Dtype \n",
      "---  ------                                       --------------  ----- \n",
      " 0   file_path                                    10237 non-null  object\n",
      " 1   image_path                                   10237 non-null  object\n",
      " 2   BitsAllocated                                10237 non-null  int64 \n",
      " 3   BitsStored                                   10237 non-null  int64 \n",
      " 4   BodyPartExamined                             10237 non-null  object\n",
      " 5   ConversionType                               10237 non-null  object\n",
      " 6   HighBit                                      10237 non-null  int64 \n",
      " 7   LargestImagePixelValue                       10237 non-null  int64 \n",
      " 8   Laterality                                   9671 non-null   object\n",
      " 9   Modality                                     10237 non-null  object\n",
      " 10  PatientID                                    10237 non-null  object\n",
      " 11  PatientName                                  10237 non-null  object\n",
      " 12  PatientOrientation                           10237 non-null  object\n",
      " 13  PhotometricInterpretation                    10237 non-null  object\n",
      " 14  PixelRepresentation                          10237 non-null  int64 \n",
      " 15  SamplesPerPixel                              10237 non-null  int64 \n",
      " 16  SecondaryCaptureDeviceManufacturer           10237 non-null  object\n",
      " 17  SecondaryCaptureDeviceManufacturerModelName  10237 non-null  object\n",
      " 18  SeriesDescription                            9671 non-null   object\n",
      " 19  SmallestImagePixelValue                      10237 non-null  int64 \n",
      " 20  SpecificCharacterSet                         10237 non-null  object\n",
      "dtypes: int64(7), object(14)\n",
      "memory usage: 1.6+ MB\n"
     ]
    }
   ],
   "source": [
    "dicom_cleaned_data.drop(['PatientBirthDate','AccessionNumber','Columns','ContentDate','ContentTime','PatientSex','PatientBirthDate',\n",
    "                                                'ReferringPhysicianName','Rows','SOPClassUID','SOPInstanceUID',\n",
    "                                                'StudyDate','StudyID','StudyInstanceUID','StudyTime','InstanceNumber','SeriesInstanceUID','SeriesNumber'],axis =1, inplace=True) \n",
    "dicom_cleaned_data.info()"
   ]
  },
  {
   "cell_type": "code",
   "execution_count": 32,
   "id": "bbe94e3e",
   "metadata": {},
   "outputs": [
    {
     "data": {
      "text/plain": [
       "file_path                                        0\n",
       "image_path                                       0\n",
       "BitsAllocated                                    0\n",
       "BitsStored                                       0\n",
       "BodyPartExamined                                 0\n",
       "ConversionType                                   0\n",
       "HighBit                                          0\n",
       "LargestImagePixelValue                           0\n",
       "Laterality                                     566\n",
       "Modality                                         0\n",
       "PatientID                                        0\n",
       "PatientName                                      0\n",
       "PatientOrientation                               0\n",
       "PhotometricInterpretation                        0\n",
       "PixelRepresentation                              0\n",
       "SamplesPerPixel                                  0\n",
       "SecondaryCaptureDeviceManufacturer               0\n",
       "SecondaryCaptureDeviceManufacturerModelName      0\n",
       "SeriesDescription                              566\n",
       "SmallestImagePixelValue                          0\n",
       "SpecificCharacterSet                             0\n",
       "dtype: int64"
      ]
     },
     "execution_count": 32,
     "metadata": {},
     "output_type": "execute_result"
    }
   ],
   "source": [
    "dicom_cleaned_data.isna().sum()"
   ]
  },
  {
   "cell_type": "code",
   "execution_count": 33,
   "id": "0bd3193f",
   "metadata": {},
   "outputs": [
    {
     "data": {
      "text/plain": [
       "file_path                                      0\n",
       "image_path                                     0\n",
       "BitsAllocated                                  0\n",
       "BitsStored                                     0\n",
       "BodyPartExamined                               0\n",
       "ConversionType                                 0\n",
       "HighBit                                        0\n",
       "LargestImagePixelValue                         0\n",
       "Laterality                                     0\n",
       "Modality                                       0\n",
       "PatientID                                      0\n",
       "PatientName                                    0\n",
       "PatientOrientation                             0\n",
       "PhotometricInterpretation                      0\n",
       "PixelRepresentation                            0\n",
       "SamplesPerPixel                                0\n",
       "SecondaryCaptureDeviceManufacturer             0\n",
       "SecondaryCaptureDeviceManufacturerModelName    0\n",
       "SeriesDescription                              0\n",
       "SmallestImagePixelValue                        0\n",
       "SpecificCharacterSet                           0\n",
       "dtype: int64"
      ]
     },
     "execution_count": 33,
     "metadata": {},
     "output_type": "execute_result"
    }
   ],
   "source": [
    "dicom_cleaned_data['SeriesDescription'].fillna(method = 'bfill', axis = 0, inplace=True)\n",
    "dicom_cleaned_data['Laterality'].fillna(method = 'bfill', axis = 0, inplace=True)\n",
    "dicom_cleaned_data.isna().sum()"
   ]
  },
  {
   "cell_type": "code",
   "execution_count": 34,
   "id": "0d191be9",
   "metadata": {},
   "outputs": [
    {
     "data": {
      "text/plain": [
       "patient_id                   0\n",
       "breast_density               0\n",
       "left_or_right_breast         0\n",
       "image_view                   0\n",
       "abnormality id               0\n",
       "abnormality_type             0\n",
       "calc_type                   20\n",
       "calc_distribution          376\n",
       "assessment                   0\n",
       "pathology                    0\n",
       "subtlety                     0\n",
       "image file path              0\n",
       "cropped image file path      0\n",
       "ROI mask file path           0\n",
       "dtype: int64"
      ]
     },
     "execution_count": 34,
     "metadata": {},
     "output_type": "execute_result"
    }
   ],
   "source": [
    "Data_cleaning_1 = calc_case_df.copy()\n",
    "Data_cleaning_1 = Data_cleaning_1.rename(columns={'calc type':'calc_type'})\n",
    "Data_cleaning_1 = Data_cleaning_1.rename(columns={'calc distribution':'calc_distribution'})\n",
    "Data_cleaning_1 = Data_cleaning_1.rename(columns={'image view':'image_view'})\n",
    "Data_cleaning_1 = Data_cleaning_1.rename(columns={'left or right breast':'left_or_right_breast'})\n",
    "Data_cleaning_1 = Data_cleaning_1.rename(columns={'breast density':'breast_density'})\n",
    "Data_cleaning_1 = Data_cleaning_1.rename(columns={'abnormality type':'abnormality_type'})\n",
    "Data_cleaning_1['pathology'] = Data_cleaning_1['pathology'].astype('category')\n",
    "Data_cleaning_1['calc_type'] = Data_cleaning_1['calc_type'].astype('category')\n",
    "Data_cleaning_1['calc_distribution'] = Data_cleaning_1['calc_distribution'].astype('category')\n",
    "Data_cleaning_1['abnormality_type'] = Data_cleaning_1['abnormality_type'].astype('category')\n",
    "Data_cleaning_1['image_view'] = Data_cleaning_1['image_view'].astype('category')\n",
    "Data_cleaning_1['left_or_right_breast'] = Data_cleaning_1['left_or_right_breast'].astype('category')\n",
    "Data_cleaning_1.isna().sum()"
   ]
  },
  {
   "cell_type": "code",
   "execution_count": 35,
   "id": "281c5568",
   "metadata": {},
   "outputs": [
    {
     "data": {
      "text/plain": [
       "patient_id                 0\n",
       "breast_density             0\n",
       "left_or_right_breast       0\n",
       "image_view                 0\n",
       "abnormality id             0\n",
       "abnormality_type           0\n",
       "calc_type                  0\n",
       "calc_distribution          0\n",
       "assessment                 0\n",
       "pathology                  0\n",
       "subtlety                   0\n",
       "image file path            0\n",
       "cropped image file path    0\n",
       "ROI mask file path         0\n",
       "dtype: int64"
      ]
     },
     "execution_count": 35,
     "metadata": {},
     "output_type": "execute_result"
    }
   ],
   "source": [
    "Data_cleaning_1['calc_type'].fillna(method = 'bfill', axis = 0, inplace=True) \n",
    "Data_cleaning_1['calc_distribution'].fillna(method = 'bfill', axis = 0, inplace=True)\n",
    "Data_cleaning_1.isna().sum()"
   ]
  },
  {
   "cell_type": "code",
   "execution_count": 36,
   "id": "e126aa2c",
   "metadata": {},
   "outputs": [
    {
     "data": {
      "text/plain": [
       "patient_id                  0\n",
       "breast_density              0\n",
       "left_or_right_breast        0\n",
       "image_view                  0\n",
       "abnormality id              0\n",
       "abnormality_type            0\n",
       "mass_shape                  4\n",
       "mass_margins               43\n",
       "assessment                  0\n",
       "pathology                   0\n",
       "subtlety                    0\n",
       "image file path             0\n",
       "cropped image file path     0\n",
       "ROI mask file path          0\n",
       "dtype: int64"
      ]
     },
     "execution_count": 36,
     "metadata": {},
     "output_type": "execute_result"
    }
   ],
   "source": [
    "Data_cleaning_2 = mass_case_df.copy()\n",
    "Data_cleaning_2 = Data_cleaning_2.rename(columns={'mass shape':'mass_shape'})\n",
    "Data_cleaning_2 = Data_cleaning_2.rename(columns={'left or right breast':'left_or_right_breast'})\n",
    "Data_cleaning_2 = Data_cleaning_2.rename(columns={'mass margins':'mass_margins'})\n",
    "Data_cleaning_2 = Data_cleaning_2.rename(columns={'image view':'image_view'})\n",
    "Data_cleaning_2 = Data_cleaning_2.rename(columns={'abnormality type':'abnormality_type'})\n",
    "Data_cleaning_2['left_or_right_breast'] = Data_cleaning_2['left_or_right_breast'].astype('category')\n",
    "Data_cleaning_2['image_view'] = Data_cleaning_2['image_view'].astype('category')\n",
    "Data_cleaning_2['mass_margins'] = Data_cleaning_2['mass_margins'].astype('category')\n",
    "Data_cleaning_2['mass_shape'] = Data_cleaning_2['mass_shape'].astype('category')\n",
    "Data_cleaning_2['abnormality_type'] = Data_cleaning_2['abnormality_type'].astype('category')\n",
    "Data_cleaning_2['pathology'] = Data_cleaning_2['pathology'].astype('category')\n",
    "Data_cleaning_2.isna().sum()"
   ]
  },
  {
   "cell_type": "code",
   "execution_count": 37,
   "id": "915acc7e",
   "metadata": {},
   "outputs": [
    {
     "data": {
      "text/plain": [
       "patient_id                 0\n",
       "breast_density             0\n",
       "left_or_right_breast       0\n",
       "image_view                 0\n",
       "abnormality id             0\n",
       "abnormality_type           0\n",
       "mass_shape                 0\n",
       "mass_margins               0\n",
       "assessment                 0\n",
       "pathology                  0\n",
       "subtlety                   0\n",
       "image file path            0\n",
       "cropped image file path    0\n",
       "ROI mask file path         0\n",
       "dtype: int64"
      ]
     },
     "execution_count": 37,
     "metadata": {},
     "output_type": "execute_result"
    }
   ],
   "source": [
    "Data_cleaning_2['mass_shape'].fillna(method = 'bfill', axis = 0, inplace=True) \n",
    "Data_cleaning_2['mass_margins'].fillna(method = 'bfill', axis = 0, inplace=True) \n",
    "Data_cleaning_2.isna().sum()"
   ]
  },
  {
   "cell_type": "markdown",
   "id": "010ba38a",
   "metadata": {},
   "source": [
    "# Al parecer solo necesitamos desde acá\n",
    "Toca descargar esto, pero lo anterior me pareció nice por eso no lo borré. \n",
    "\n",
    "https://www.kaggle.com/datasets/paultimothymooney/breast-histopathology-images/data\n",
    "\n",
    "https://www.kaggle.com/code/baselanaya/breast-cancer-detection-using-cnn?cellIds=34&kernelSessionId=144188816"
   ]
  },
  {
   "cell_type": "code",
   "execution_count": 14,
   "id": "2d1a9805",
   "metadata": {},
   "outputs": [],
   "source": [
    "breast_imgs = glob.glob('breast-histopathology-images/IDC_regular_ps50_idx5/**/**.png', recursive = True)"
   ]
  },
  {
   "cell_type": "code",
   "execution_count": 15,
   "id": "d691dbb5",
   "metadata": {},
   "outputs": [
    {
     "name": "stdout",
     "output_type": "stream",
     "text": [
      "breast-histopathology-images/IDC_regular_ps50_idx5\\10253\\0\\10253_idx5_x1001_y1001_class0.png\n",
      "breast-histopathology-images/IDC_regular_ps50_idx5\\10253\\0\\10253_idx5_x1001_y1051_class0.png\n",
      "breast-histopathology-images/IDC_regular_ps50_idx5\\10253\\0\\10253_idx5_x1001_y1101_class0.png\n",
      "breast-histopathology-images/IDC_regular_ps50_idx5\\10253\\0\\10253_idx5_x1001_y1151_class0.png\n",
      "breast-histopathology-images/IDC_regular_ps50_idx5\\10253\\0\\10253_idx5_x1001_y1201_class0.png\n"
     ]
    }
   ],
   "source": [
    "for imgname in breast_imgs[:5]:\n",
    "    print(imgname)    "
   ]
  },
  {
   "cell_type": "code",
   "execution_count": 31,
   "id": "09db4f0d",
   "metadata": {},
   "outputs": [],
   "source": [
    "import shutil"
   ]
  },
  {
   "cell_type": "code",
   "execution_count": 62,
   "id": "44ee8b27",
   "metadata": {},
   "outputs": [],
   "source": [
    "non_cancer_imgs = []\n",
    "cancer_imgs = []\n",
    "\n",
    "carpeta_cancer = 'cancer/'\n",
    "carpeta_nocancer = 'no-cancer/'\n",
    "for img in breast_imgs:\n",
    "    if img[-5] == '0' :\n",
    "        #shutil.copy(img, carpeta_cancer)\n",
    "        non_cancer_imgs.append(img)\n",
    "    \n",
    "    elif img[-5] == '1' :\n",
    "        #shutil.copy(img, carpeta_nocancer)\n",
    "        cancer_imgs.append(img)"
   ]
  },
  {
   "cell_type": "code",
   "execution_count": 63,
   "id": "95215403",
   "metadata": {},
   "outputs": [
    {
     "name": "stdout",
     "output_type": "stream",
     "text": [
      "Número de imágenes sin cancer: 198738\n",
      "Número de imágenes cancer : 78786\n",
      "Total de imágenes : 277524\n"
     ]
    }
   ],
   "source": [
    "non_cancer_num = len(non_cancer_imgs)  # No cancer\n",
    "cancer_num = len(cancer_imgs)   # Cancer \n",
    "        \n",
    "total_img_num = non_cancer_num + cancer_num\n",
    "        \n",
    "print('Número de imágenes sin cancer: {}' .format(non_cancer_num))   # images of Non cancer\n",
    "print('Número de imágenes cancer : {}' .format(cancer_num))   # images of cancer \n",
    "print('Total de imágenes : {}' .format(total_img_num))"
   ]
  },
  {
   "cell_type": "code",
   "execution_count": 34,
   "id": "236bcdae",
   "metadata": {},
   "outputs": [],
   "source": [
    "entrenamiento_cancer = 'entrenamiento/cancer/'\n",
    "entrenamiento_nocancer = 'entrenamiento/nocancer/'\n",
    "test_cancer = 'test/cancer/'\n",
    "test_nocancer = 'test/nocancer/'"
   ]
  },
  {
   "cell_type": "code",
   "execution_count": 37,
   "id": "19164e81",
   "metadata": {},
   "outputs": [],
   "source": [
    "import os\n",
    "import zipfile\n",
    "import random\n",
    "import tensorflow as tf\n",
    "from tensorflow.keras.optimizers import RMSprop\n",
    "from tensorflow.keras.preprocessing.image import ImageDataGenerator\n",
    "from shutil import copyfile\n",
    "\n",
    "def split_data(SOURCE, TRAINING, TESTING, SPLIT_SIZE):\n",
    "    files = []\n",
    "    for filename in os.listdir(SOURCE):\n",
    "        file = SOURCE + filename\n",
    "        if os.path.getsize(file) > 0:\n",
    "            files.append(filename)\n",
    "        else:\n",
    "            print(filename + \" is zero length, so ignoring.\")\n",
    "\n",
    "    training_length = int(len(files) * SPLIT_SIZE)\n",
    "    testing_length = int(len(files) - training_length)\n",
    "    shuffled_set = random.sample(files, len(files))\n",
    "    training_set = shuffled_set[0:training_length]\n",
    "    testing_set = shuffled_set[:testing_length]\n",
    "\n",
    "    for filename in training_set:\n",
    "        this_file = SOURCE + filename\n",
    "        destination = TRAINING + filename\n",
    "        copyfile(this_file, destination)\n",
    "\n",
    "    for filename in testing_set:\n",
    "        this_file = SOURCE + filename\n",
    "        destination = TESTING + filename\n",
    "        copyfile(this_file, destination)\n",
    "\n"
   ]
  },
  {
   "cell_type": "markdown",
   "id": "3bf0ebd0",
   "metadata": {},
   "source": [
    "Separamos los datos en entrenamiento y test (solo hacerlo una vez)"
   ]
  },
  {
   "cell_type": "code",
   "execution_count": 38,
   "id": "3923eff9",
   "metadata": {},
   "outputs": [],
   "source": [
    "split_size = .8\n",
    "\n",
    "split_data(carpeta_cancer, entrenamiento_cancer, test_cancer, split_size)\n",
    "split_data(carpeta_nocancer, entrenamiento_nocancer, test_nocancer, split_size)\n"
   ]
  },
  {
   "cell_type": "code",
   "execution_count": 74,
   "id": "c0148f48",
   "metadata": {},
   "outputs": [
    {
     "name": "stdout",
     "output_type": "stream",
     "text": [
      "Imágenes de entrenamiento sin cancer: 158990\n",
      "Imágenes de entrenamiento con cancer: 63028\n",
      "Imágenes de entrenamiento total: 222018\n",
      "Imágenes de test sin cancer: 39748\n",
      "Imágenes de test con cancer: 15758\n",
      "Imágenes de test total: 55506\n"
     ]
    }
   ],
   "source": [
    "entrenamiento_cancer = 'entrenamiento/cancer/'\n",
    "entrenamiento_nocancer = 'entrenamiento/nocancer/'\n",
    "test_cancer = 'test/cancer/'\n",
    "test_nocancer = 'test/nocancer/'\n",
    "\n",
    "datos_entrenamiento_cancer = glob.glob('entrenamiento/cancer/**.png', recursive = True)\n",
    "datos_entrenamiento_nocancer = glob.glob('entrenamiento/nocancer/**.png', recursive = True)\n",
    "datos_test_cancer = glob.glob('test/cancer/**.png', recursive = True)\n",
    "datos_test_nocancer = glob.glob('test/nocancer/**.png', recursive = True)\n",
    "\n",
    "\n",
    "print('Imágenes de entrenamiento sin cancer: {}' .format(len(datos_entrenamiento_cancer)))\n",
    "print('Imágenes de entrenamiento con cancer: {}' .format(len(datos_entrenamiento_nocancer)))\n",
    "print('Imágenes de entrenamiento total: {}' .format(len(datos_entrenamiento_nocancer)+len(datos_entrenamiento_cancer)))\n",
    "print('Imágenes de test sin cancer: {}' .format(len(datos_test_cancer)))\n",
    "print('Imágenes de test con cancer: {}' .format(len(datos_test_nocancer)))\n",
    "print('Imágenes de test total: {}' .format(len(datos_test_nocancer)+len(datos_test_cancer)))"
   ]
  },
  {
   "cell_type": "markdown",
   "id": "08d674d7",
   "metadata": {},
   "source": [
    "# RNC 1"
   ]
  },
  {
   "cell_type": "code",
   "execution_count": 44,
   "id": "1b4fd5ff",
   "metadata": {},
   "outputs": [],
   "source": [
    "model = tf.keras.models.Sequential([\n",
    "    tf.keras.layers.Conv2D(16, (3, 3), activation='relu', input_shape=(150, 150, 3)),\n",
    "    tf.keras.layers.MaxPooling2D(2, 2),\n",
    "    tf.keras.layers.Conv2D(32, (3, 3), activation='relu'),\n",
    "    tf.keras.layers.MaxPooling2D(2, 2),\n",
    "    tf.keras.layers.Conv2D(64, (3, 3), activation='relu'),\n",
    "    tf.keras.layers.MaxPooling2D(2, 2),\n",
    "    tf.keras.layers.Flatten(),\n",
    "    tf.keras.layers.Dense(512, activation='relu'),\n",
    "    tf.keras.layers.Dense(1, activation='sigmoid')\n",
    "])\n",
    "model.compile(optimizer=RMSprop(learning_rate=0.001), loss='binary_crossentropy', metrics=['accuracy'])"
   ]
  },
  {
   "cell_type": "code",
   "execution_count": 45,
   "id": "9163e6c7",
   "metadata": {},
   "outputs": [
    {
     "name": "stdout",
     "output_type": "stream",
     "text": [
      "Found 222018 images belonging to 2 classes.\n",
      "Found 55506 images belonging to 2 classes.\n"
     ]
    }
   ],
   "source": [
    "TRAINING_DIR = \"entrenamiento/\"\n",
    "\n",
    "train_datagen = ImageDataGenerator(rescale=1./255,\n",
    "      rotation_range=40,\n",
    "      width_shift_range=0.2,\n",
    "      height_shift_range=0.2,\n",
    "      shear_range=0.2,\n",
    "      zoom_range=0.2,\n",
    "      horizontal_flip=True,\n",
    "      fill_mode='nearest')\n",
    "\n",
    "train_generator = train_datagen.flow_from_directory(TRAINING_DIR,\n",
    "                                                    batch_size=100,\n",
    "                                                    class_mode='binary',\n",
    "                                                    target_size=(150, 150))\n",
    "\n",
    "VALIDATION_DIR = \"test/\"\n",
    "\n",
    "validation_datagen = ImageDataGenerator(rescale=1./255,\n",
    "      rotation_range=40,\n",
    "      width_shift_range=0.2,\n",
    "      height_shift_range=0.2,\n",
    "      shear_range=0.2,\n",
    "      zoom_range=0.2,\n",
    "      horizontal_flip=True,\n",
    "      fill_mode='nearest')\n",
    "validation_generator = validation_datagen.flow_from_directory(VALIDATION_DIR,\n",
    "                                                              batch_size=100,\n",
    "                                                              class_mode='binary',\n",
    "                                                              target_size=(150, 150))\n"
   ]
  },
  {
   "cell_type": "code",
   "execution_count": 77,
   "id": "cabb2951",
   "metadata": {},
   "outputs": [
    {
     "name": "stdout",
     "output_type": "stream",
     "text": [
      "Epoch 1/10\n",
      "2/2 [==============================] - 245s 244s/step - loss: 0.3197 - accuracy: 0.8550 - val_loss: 0.3780 - val_accuracy: 0.8392\n",
      "Epoch 2/10\n",
      "2/2 [==============================] - 245s 244s/step - loss: 0.2716 - accuracy: 0.8900 - val_loss: 0.3622 - val_accuracy: 0.8461\n",
      "Epoch 3/10\n",
      "2/2 [==============================] - 257s 256s/step - loss: 0.4021 - accuracy: 0.8300 - val_loss: 0.3639 - val_accuracy: 0.8411\n",
      "Epoch 4/10\n",
      "2/2 [==============================] - 240s 239s/step - loss: 0.3443 - accuracy: 0.8700 - val_loss: 0.4106 - val_accuracy: 0.8299\n",
      "Epoch 5/10\n",
      "2/2 [==============================] - 1908s 1907s/step - loss: 0.4407 - accuracy: 0.8100 - val_loss: 0.3587 - val_accuracy: 0.8436\n",
      "Epoch 6/10\n",
      "2/2 [==============================] - 241s 240s/step - loss: 0.3323 - accuracy: 0.8850 - val_loss: 0.3520 - val_accuracy: 0.8503\n",
      "Epoch 7/10\n",
      "2/2 [==============================] - 243s 242s/step - loss: 0.3323 - accuracy: 0.8650 - val_loss: 0.3571 - val_accuracy: 0.8458\n",
      "Epoch 8/10\n",
      "2/2 [==============================] - 241s 240s/step - loss: 0.4109 - accuracy: 0.8150 - val_loss: 0.3728 - val_accuracy: 0.8414\n",
      "Epoch 9/10\n",
      "2/2 [==============================] - 241s 240s/step - loss: 0.4072 - accuracy: 0.8300 - val_loss: 0.3561 - val_accuracy: 0.8495\n",
      "Epoch 10/10\n",
      "2/2 [==============================] - 245s 244s/step - loss: 0.3359 - accuracy: 0.8350 - val_loss: 0.3744 - val_accuracy: 0.8399\n"
     ]
    }
   ],
   "source": [
    "history = model.fit(train_generator,\n",
    "                              steps_per_epoch= 2,\n",
    "                              epochs=10,\n",
    "                              verbose=1,\n",
    "                              validation_data=validation_generator)"
   ]
  },
  {
   "cell_type": "code",
   "execution_count": 56,
   "id": "798c0152",
   "metadata": {},
   "outputs": [
    {
     "name": "stdout",
     "output_type": "stream",
     "text": [
      "Epoch 1/2\n",
      "10/10 [==============================] - 244s 27s/step - loss: 0.3615 - accuracy: 0.8580 - val_loss: 0.3584 - val_accuracy: 0.8447\n",
      "Epoch 2/2\n",
      "10/10 [==============================] - 251s 28s/step - loss: 0.3471 - accuracy: 0.8530 - val_loss: 0.3753 - val_accuracy: 0.8387\n"
     ]
    }
   ],
   "source": [
    "# Para probar\n",
    "history = model.fit(train_generator,\n",
    "                              steps_per_epoch= 10,\n",
    "                              epochs=2,\n",
    "                              verbose=1,\n",
    "                              validation_data=validation_generator)"
   ]
  },
  {
   "cell_type": "code",
   "execution_count": 51,
   "id": "47a9bc18",
   "metadata": {},
   "outputs": [],
   "source": [
    "import matplotlib.image  as mpimg\n",
    "import matplotlib.pyplot as plt"
   ]
  },
  {
   "cell_type": "code",
   "execution_count": 78,
   "id": "1b19f9d4",
   "metadata": {},
   "outputs": [],
   "source": [
    "#-----------------------------------------------------------\n",
    "# Retrieve a list of list results on training and test data\n",
    "# sets for each training epoch\n",
    "#-----------------------------------------------------------\n",
    "acc=history.history['accuracy']\n",
    "val_acc=history.history['val_accuracy']\n",
    "loss=history.history['loss']\n",
    "val_loss=history.history['val_loss']\n",
    "\n",
    "epochs=range(len(acc)) # Get number of epochs\n"
   ]
  },
  {
   "cell_type": "code",
   "execution_count": 79,
   "id": "6030255e",
   "metadata": {},
   "outputs": [
    {
     "data": {
      "image/png": "[encoded data removed]",
      "text/plain": [
       "<Figure size 640x480 with 1 Axes>"
      ]
     },
     "metadata": {},
     "output_type": "display_data"
    }
   ],
   "source": [
    "#------------------------------------------------\n",
    "# Plot training and validation accuracy per epoch\n",
    "#------------------------------------------------\n",
    "plt.plot(epochs, acc, 'r', \"Training Accuracy\")\n",
    "plt.plot(epochs, val_acc, 'b', \"Validation Accuracy\")\n",
    "plt.title('Training and validation accuracy')\n",
    "plt.show()\n"
   ]
  },
  {
   "cell_type": "code",
   "execution_count": 80,
   "id": "dbf9aeab",
   "metadata": {},
   "outputs": [
    {
     "data": {
      "image/png": "[encoded data removed]",
      "text/plain": [
       "<Figure size 640x480 with 1 Axes>"
      ]
     },
     "metadata": {},
     "output_type": "display_data"
    }
   ],
   "source": [
    "#------------------------------------------------\n",
    "# Plot training and validation loss per epoch\n",
    "#------------------------------------------------\n",
    "plt.plot(epochs, loss, 'r', \"Training Loss\")\n",
    "plt.plot(epochs, val_loss, 'b', \"Validation Loss\")\n",
    "plt.show()\n",
    "# Desired output. Charts with training and validation metrics. No crash :)"
   ]
  },
  {
   "cell_type": "markdown",
   "id": "a803879a",
   "metadata": {},
   "source": [
    "# RNC"
   ]
  },
  {
   "cell_type": "code",
   "execution_count": 1,
   "id": "5bf96b52",
   "metadata": {},
   "outputs": [],
   "source": [
    "from keras.models import Sequential\n",
    "from keras.layers import Conv2D\n",
    "from keras.layers import MaxPooling2D\n",
    "from keras.layers import Flatten\n",
    "from keras.layers import Dense"
   ]
  },
  {
   "cell_type": "code",
   "execution_count": 20,
   "id": "b5ee7a5b",
   "metadata": {},
   "outputs": [],
   "source": [
    "clf = Sequential()\n",
    "# Capa convolucional 1\n",
    "clf.add(Conv2D(filters=32, kernel_size=(3, 3), input_shape=(255, 255, 3), activation=\"relu\"))\n",
    "\n",
    "# Max pooling - Capa de submuestreo\n",
    "clf.add(MaxPooling2D(pool_size = (2,2)))\n",
    "# Average pooling\n",
    "\n",
    "# Flattening - Aplanamiento\n",
    "clf.add(Flatten())\n",
    "\n",
    "# Full connection - Capas conectadas\n",
    "clf.add(Dense(units = 128, activation = \"relu\"))\n",
    "clf.add(Dense(units = 1, activation = \"sigmoid\"))\n",
    "\n",
    "# Compilar CNN\n",
    "clf.compile(optimizer = \"adam\", loss = \"binary_crossentropy\",\n",
    "           metrics = [\"accuracy\"])"
   ]
  },
  {
   "cell_type": "code",
   "execution_count": 21,
   "id": "f6b8b24c",
   "metadata": {},
   "outputs": [],
   "source": [
    "from keras.preprocessing.image import ImageDataGenerator"
   ]
  },
  {
   "cell_type": "code",
   "execution_count": null,
   "id": "75b8d4af",
   "metadata": {},
   "outputs": [],
   "source": [
    "train_datagen = ImageDataGenerator(\n",
    "        rescale=1./255,\n",
    "        shear_range=0.2,\n",
    "        zoom_range=0.2,\n",
    "        horizontal_flip=True)\n",
    "\n",
    "test_datagen = ImageDataGenerator(rescale=1./255)\n"
   ]
  },
  {
   "cell_type": "code",
   "execution_count": null,
   "id": "cb1c9a0b",
   "metadata": {},
   "outputs": [],
   "source": [
    "\n",
    "# Cargar carpeta de trabajo, training\n",
    "train_generator = train_datagen.flow_from_directory('deeplearning-az-master/original/Part 2 - Convolutional Neural Networks (CNN)/dataset/training_set',\n",
    "                                                    target_size=(64, 64), # mantener el tamaño de la entrada de la RCC, escalar la imagen\n",
    "                                                    batch_size=32,        # Cantidad de imagenes que van a pasar por la RCC, va de 32 en 32\n",
    "                                                    class_mode='binary')  # las categorías que tenemos"
   ]
  },
  {
   "cell_type": "code",
   "execution_count": null,
   "id": "66da8c4a",
   "metadata": {},
   "outputs": [],
   "source": []
  },
  {
   "cell_type": "code",
   "execution_count": null,
   "id": "347e287a",
   "metadata": {},
   "outputs": [],
   "source": []
  },
  {
   "cell_type": "code",
   "execution_count": null,
   "id": "a1a9ed21",
   "metadata": {},
   "outputs": [],
   "source": []
  },
  {
   "cell_type": "code",
   "execution_count": null,
   "id": "bcd68f18",
   "metadata": {},
   "outputs": [],
   "source": []
  }
 ],
 "metadata": {
  "kernelspec": {
   "display_name": "Python 3 (ipykernel)",
   "language": "python",
   "name": "python3"
  },
  "language_info": {
   "codemirror_mode": {
    "name": "ipython",
    "version": 3
   },
   "file_extension": ".py",
   "mimetype": "text/x-python",
   "name": "python",
   "nbconvert_exporter": "python",
   "pygments_lexer": "ipython3",
   "version": "3.11.5"
  }
 },
 "nbformat": 4,
 "nbformat_minor": 5
}
