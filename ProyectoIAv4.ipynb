{
 "cells": [
  {
   "cell_type": "markdown",
   "id": "d8db2274",
   "metadata": {},
   "source": [
    "# Breast Histopathology Images"
   ]
  },
  {
   "cell_type": "code",
   "execution_count": 49,
   "id": "f8999240",
   "metadata": {},
   "outputs": [],
   "source": [
    "import os\n",
    "import zipfile\n",
    "import random\n",
    "import shutil\n",
    "import glob\n",
    "import numpy as np\n",
    "import matplotlib.image  as mpimg\n",
    "import matplotlib.pyplot as plt\n",
    "import tensorflow as tf\n",
    "from tensorflow.keras.callbacks import ModelCheckpoint\n",
    "from tensorflow.keras.optimizers import RMSprop\n",
    "from tensorflow.keras.preprocessing.image import ImageDataGenerator\n",
    "from shutil import copyfile\n",
    "from PIL import Image"
   ]
  },
  {
   "cell_type": "markdown",
   "id": "1d83bdb1",
   "metadata": {},
   "source": [
    "## Pre-procesamiento"
   ]
  },
  {
   "cell_type": "code",
   "execution_count": 2,
   "id": "9c29553f",
   "metadata": {},
   "outputs": [],
   "source": [
    "breast_imgs = glob.glob('breast-histopathology-images/IDC_regular_ps50_idx5/**/**.png', recursive = True)"
   ]
  },
  {
   "cell_type": "code",
   "execution_count": 3,
   "id": "9f590557",
   "metadata": {},
   "outputs": [
    {
     "name": "stdout",
     "output_type": "stream",
     "text": [
      "breast-histopathology-images/IDC_regular_ps50_idx5\\10253\\0\\10253_idx5_x1001_y1001_class0.png\n",
      "breast-histopathology-images/IDC_regular_ps50_idx5\\10253\\0\\10253_idx5_x1001_y1051_class0.png\n",
      "breast-histopathology-images/IDC_regular_ps50_idx5\\10253\\0\\10253_idx5_x1001_y1101_class0.png\n",
      "breast-histopathology-images/IDC_regular_ps50_idx5\\10253\\0\\10253_idx5_x1001_y1151_class0.png\n",
      "breast-histopathology-images/IDC_regular_ps50_idx5\\10253\\0\\10253_idx5_x1001_y1201_class0.png\n"
     ]
    }
   ],
   "source": [
    "for imgname in breast_imgs[:5]:\n",
    "    print(imgname)    "
   ]
  },
  {
   "cell_type": "markdown",
   "id": "5cd451a4",
   "metadata": {},
   "source": [
    "Si dejamos \"shutil.copy\" crearemos un duplicado de las imágenes en las carpetas especificadas, lo cual no es recomendable correr si ya lo hicimos una vez"
   ]
  },
  {
   "cell_type": "code",
   "execution_count": 6,
   "id": "cdb81746",
   "metadata": {},
   "outputs": [
    {
     "name": "stdout",
     "output_type": "stream",
     "text": [
      "Número de imágenes sin cáncer: 88786\n",
      "Número de imágenes con cáncer: 78786\n",
      "Total de imágenes: 167572\n"
     ]
    }
   ],
   "source": [
    "non_cancer_imgs = []\n",
    "cancer_imgs = []\n",
    "\n",
    "for img in breast_imgs:\n",
    "    if img[-5] == '0':\n",
    "        non_cancer_imgs.append(img)\n",
    "    elif img[-5] == '1':\n",
    "        cancer_imgs.append(img)\n",
    "\n",
    "# Seleccionar una muestra equilibrada de imágenes sin cáncer\n",
    "random.seed(1)\n",
    "non_cancer_sample = random.sample(non_cancer_imgs, min(len(non_cancer_imgs), 88786))\n",
    "\n",
    "non_cancer_num = len(non_cancer_sample)\n",
    "cancer_num = len(cancer_imgs) \n",
    "total_img_num = non_cancer_num + cancer_num\n",
    "\n",
    "# Mostrar \n",
    "print('Número de imágenes sin cáncer: {}'.format(non_cancer_num))\n",
    "print('Número de imágenes con cáncer: {}'.format(cancer_num))\n",
    "print('Total de imágenes: {}'.format(total_img_num))\n",
    "\n"
   ]
  },
  {
   "cell_type": "code",
   "execution_count": 35,
   "id": "f784caf4",
   "metadata": {},
   "outputs": [],
   "source": [
    "carpeta_nocancer = 'no-cancer/'\n",
    "\n",
    "for img in non_cancer_sample:\n",
    "    shutil.copy(img, carpeta_nocancer)\n"
   ]
  },
  {
   "cell_type": "code",
   "execution_count": 7,
   "id": "3730ac5f",
   "metadata": {},
   "outputs": [],
   "source": [
    "carpeta_cancer = 'cancer/'\n",
    "\n",
    "for img in cancer_imgs:\n",
    "    shutil.copy(img, carpeta_cancer)\n"
   ]
  },
  {
   "cell_type": "code",
   "execution_count": 29,
   "id": "9db2488c",
   "metadata": {},
   "outputs": [
    {
     "name": "stdout",
     "output_type": "stream",
     "text": [
      "Imágenes de carpeta cancer: 88786\n",
      "Imágenes de carpeta no-cancer: 88786\n"
     ]
    }
   ],
   "source": [
    "imagenes_carpeta_cancer = glob.glob('cancer/**.png', recursive = True)\n",
    "imagenes_carpeta_nocancer = glob.glob('no-cancer/**.png', recursive = True)\n",
    "\n",
    "print('Imágenes de carpeta cancer: {}' .format(len(imagenes_carpeta_cancer)))\n",
    "print('Imágenes de carpeta no-cancer: {}' .format(len(imagenes_carpeta_nocancer)))"
   ]
  },
  {
   "cell_type": "code",
   "execution_count": 19,
   "id": "10c350ae",
   "metadata": {},
   "outputs": [
    {
     "name": "stdout",
     "output_type": "stream",
     "text": [
      "Imágenes aumentadas guardadas en cancer/\n"
     ]
    }
   ],
   "source": [
    "random.seed(1)\n",
    "cancer_sample = random.sample(cancer_imgs, 11214)\n",
    "# Configuración del generador de datos\n",
    "datagen = ImageDataGenerator(\n",
    "    rescale=1./255,\n",
    "    rotation_range=40,\n",
    "    width_shift_range=0.1,\n",
    "    height_shift_range=0.1,\n",
    "    shear_range=0.1,\n",
    "    zoom_range=0.2,\n",
    "    horizontal_flip=True,\n",
    "    fill_mode='nearest'\n",
    ")\n",
    "# Generar imágenes aumentadas y guardarlas en el directorio de salida\n",
    "for img_path in cancer_sample:\n",
    "    img = Image.open(img_path)  \n",
    "    img = img.resize((50, 50))  \n",
    "    img_array = np.array(img)\n",
    "    img_array = img_array.reshape((1,) + img_array.shape)\n",
    "\n",
    "    i = 0\n",
    "    for batch in datagen.flow(img_array, batch_size=1, \n",
    "                              save_to_dir=carpeta_cancer, \n",
    "                              save_prefix='mod',\n",
    "                              save_format='png'):\n",
    "        i += 1\n",
    "        if i >= 5:  \n",
    "            break\n",
    "\n",
    "print(f\"Imágenes aumentadas guardadas en {carpeta_cancer}\")"
   ]
  },
  {
   "cell_type": "code",
   "execution_count": 25,
   "id": "d25a2f94",
   "metadata": {},
   "outputs": [
    {
     "name": "stdout",
     "output_type": "stream",
     "text": [
      "Imágenes de carpeta cancer: 88786\n"
     ]
    }
   ],
   "source": [
    "imagenes_carpeta_cancer = glob.glob('cancer/**.png', recursive = True)\n",
    "\n",
    "print('Imágenes de carpeta cancer: {}' .format(len(imagenes_carpeta_cancer)))\n"
   ]
  },
  {
   "cell_type": "code",
   "execution_count": 40,
   "id": "20fb6244",
   "metadata": {},
   "outputs": [
    {
     "name": "stdout",
     "output_type": "stream",
     "text": [
      "Número de imágenes sin cancer: 198738\n",
      "Número de imágenes cancer : 78786\n",
      "Total de imágenes : 277524\n"
     ]
    }
   ],
   "source": [
    "\n",
    "non_cancer_num = len(non_cancer_imgs)  # No cancer\n",
    "cancer_num = len(cancer_imgs)   # Cancer \n",
    "        \n",
    "total_img_num = non_cancer_num + cancer_num\n",
    "        \n",
    "print('Número de imágenes sin cancer: {}' .format(non_cancer_num))   # images of Non cancer\n",
    "print('Número de imágenes cancer : {}' .format(cancer_num))   # images of cancer \n",
    "print('Total de imágenes : {}' .format(total_img_num))"
   ]
  },
  {
   "cell_type": "code",
   "execution_count": 41,
   "id": "53845cf0",
   "metadata": {},
   "outputs": [],
   "source": [
    "carpeta_nocancer = 'no-cancer/'\n",
    "carpeta_cancer = 'cancer/'\n",
    "entrenamiento_cancer = 'entrenamiento/cancer/'\n",
    "entrenamiento_nocancer = 'entrenamiento/nocancer/'\n",
    "test_cancer = 'test/cancer/'\n",
    "test_nocancer = 'test/nocancer/'"
   ]
  },
  {
   "cell_type": "code",
   "execution_count": 42,
   "id": "b1f95825",
   "metadata": {},
   "outputs": [],
   "source": [
    "\n",
    "def split_data(SOURCE, TRAINING, TESTING, SPLIT_SIZE):\n",
    "    files = []\n",
    "    for filename in os.listdir(SOURCE):\n",
    "        file = SOURCE + filename\n",
    "        if os.path.getsize(file) > 0:\n",
    "            files.append(filename)\n",
    "        else:\n",
    "            print(filename + \" is zero length, so ignoring.\")\n",
    "\n",
    "    training_length = int(len(files) * SPLIT_SIZE)\n",
    "    testing_length = int(len(files) - training_length)\n",
    "    shuffled_set = random.sample(files, len(files))\n",
    "    training_set = shuffled_set[0:training_length]\n",
    "    testing_set = shuffled_set[:testing_length]\n",
    "\n",
    "    for filename in training_set:\n",
    "        this_file = SOURCE + filename\n",
    "        destination = TRAINING + filename\n",
    "        copyfile(this_file, destination)\n",
    "\n",
    "    for filename in testing_set:\n",
    "        this_file = SOURCE + filename\n",
    "        destination = TESTING + filename\n",
    "        copyfile(this_file, destination)"
   ]
  },
  {
   "cell_type": "markdown",
   "id": "13b9216d",
   "metadata": {},
   "source": [
    "Separamos los datos (imágenes) para entrenamiento y para test. Solo hacerlo una vez"
   ]
  },
  {
   "cell_type": "code",
   "execution_count": 43,
   "id": "d417b398",
   "metadata": {},
   "outputs": [],
   "source": [
    "split_size = .8\n",
    "random.seed(1)\n",
    "split_data(carpeta_cancer, entrenamiento_cancer, test_cancer, split_size)\n",
    "split_data(carpeta_nocancer, entrenamiento_nocancer, test_nocancer, split_size)"
   ]
  },
  {
   "cell_type": "code",
   "execution_count": 44,
   "id": "afaa00b4",
   "metadata": {},
   "outputs": [
    {
     "name": "stdout",
     "output_type": "stream",
     "text": [
      "Imágenes de entrenamiento sin cancer: 71028\n",
      "Imágenes de entrenamiento con cancer: 71028\n",
      "Imágenes de entrenamiento total: 142056\n",
      "Imágenes de test sin cancer: 17758\n",
      "Imágenes de test con cancer: 17758\n",
      "Imágenes de test total: 35516\n"
     ]
    }
   ],
   "source": [
    "entrenamiento_cancer = 'entrenamiento/cancer/'\n",
    "entrenamiento_nocancer = 'entrenamiento/nocancer/'\n",
    "test_cancer = 'test/cancer/'\n",
    "test_nocancer = 'test/nocancer/'\n",
    "\n",
    "datos_entrenamiento_cancer = glob.glob('entrenamiento/cancer/**.png', recursive = True)\n",
    "datos_entrenamiento_nocancer = glob.glob('entrenamiento/nocancer/**.png', recursive = True)\n",
    "datos_test_cancer = glob.glob('test/cancer/**.png', recursive = True)\n",
    "datos_test_nocancer = glob.glob('test/nocancer/**.png', recursive = True)\n",
    "\n",
    "\n",
    "print('Imágenes de entrenamiento sin cancer: {}' .format(len(datos_entrenamiento_cancer)))\n",
    "print('Imágenes de entrenamiento con cancer: {}' .format(len(datos_entrenamiento_nocancer)))\n",
    "print('Imágenes de entrenamiento total: {}' .format(len(datos_entrenamiento_nocancer)+len(datos_entrenamiento_cancer)))\n",
    "print('Imágenes de test sin cancer: {}' .format(len(datos_test_cancer)))\n",
    "print('Imágenes de test con cancer: {}' .format(len(datos_test_nocancer)))\n",
    "print('Imágenes de test total: {}' .format(len(datos_test_nocancer)+len(datos_test_cancer)))"
   ]
  },
  {
   "cell_type": "markdown",
   "id": "fd0f4ac6",
   "metadata": {},
   "source": [
    "## RNC\n",
    "Las imágenes proporcionadas en https://www.kaggle.com/datasets/paultimothymooney/breast-histopathology-images/data tienen una dimensión de 50x50 y están a color (RGB). "
   ]
  },
  {
   "cell_type": "code",
   "execution_count": 52,
   "id": "0eb25619",
   "metadata": {},
   "outputs": [],
   "source": [
    "model = tf.keras.models.Sequential([\n",
    "    tf.keras.layers.Conv2D(16, (3, 3), activation='relu', input_shape=(50, 50, 3)),\n",
    "    tf.keras.layers.MaxPooling2D(2, 2),\n",
    "    tf.keras.layers.Conv2D(32, (3, 3), activation='relu'),\n",
    "    tf.keras.layers.MaxPooling2D(2, 2),\n",
    "    tf.keras.layers.Conv2D(64, (3, 3), activation='relu'),\n",
    "    tf.keras.layers.MaxPooling2D(2, 2),\n",
    "    tf.keras.layers.Flatten(),\n",
    "    tf.keras.layers.Dense(512, activation='relu'),\n",
    "    tf.keras.layers.Dense(1, activation='sigmoid')\n",
    "])\n",
    "model.compile(optimizer=RMSprop(learning_rate=0.001), loss='binary_crossentropy', metrics=['accuracy'])"
   ]
  },
  {
   "cell_type": "code",
   "execution_count": 45,
   "id": "362156f4",
   "metadata": {},
   "outputs": [
    {
     "name": "stdout",
     "output_type": "stream",
     "text": [
      "Found 142056 images belonging to 2 classes.\n",
      "Found 35516 images belonging to 2 classes.\n"
     ]
    }
   ],
   "source": [
    "TRAINING_DIR = \"entrenamiento/\"\n",
    "\n",
    "train_datagen = ImageDataGenerator(rescale=1./255,\n",
    "      rotation_range=40,\n",
    "      width_shift_range=0.1,\n",
    "      height_shift_range=0.1,\n",
    "      shear_range=0.1,\n",
    "      zoom_range=0.2,\n",
    "      horizontal_flip=True,\n",
    "      fill_mode='nearest')\n",
    "\n",
    "train_generator = train_datagen.flow_from_directory(TRAINING_DIR,\n",
    "                                                    batch_size=100,\n",
    "                                                    class_mode='binary',\n",
    "                                                    target_size=(50, 50))\n",
    "\n",
    "VALIDATION_DIR = \"test/\"\n",
    "\n",
    "validation_datagen = ImageDataGenerator(rescale=1./255,\n",
    "      rotation_range=40,\n",
    "      width_shift_range=0.1,\n",
    "      height_shift_range=0.1,\n",
    "      shear_range=0.1,\n",
    "      zoom_range=0.2,\n",
    "      horizontal_flip=True,\n",
    "      fill_mode='nearest')\n",
    "validation_generator = validation_datagen.flow_from_directory(VALIDATION_DIR,\n",
    "                                                              batch_size=100,\n",
    "                                                              class_mode='binary',\n",
    "                                                              target_size=(50, 50))"
   ]
  },
  {
   "cell_type": "code",
   "execution_count": 46,
   "id": "cbb11cb5",
   "metadata": {},
   "outputs": [
    {
     "name": "stdout",
     "output_type": "stream",
     "text": [
      "1421\n",
      "100\n",
      "14\n"
     ]
    }
   ],
   "source": [
    "total_muestras = len(train_generator)  \n",
    "tamano_lote = train_generator.batch_size\n",
    "numero_de_lotes = total_muestras // tamano_lote\n",
    "print(total_muestras)\n",
    "print(tamano_lote)\n",
    "print(numero_de_lotes)"
   ]
  },
  {
   "cell_type": "code",
   "execution_count": 53,
   "id": "43cf0f24",
   "metadata": {},
   "outputs": [],
   "source": [
    "checkpoint = ModelCheckpoint('pesos_del_modelo_epoch_{epoch:02d}.h5', \n",
    "                             save_weights_only=True, \n",
    "                             save_best_only=False)"
   ]
  },
  {
   "cell_type": "code",
   "execution_count": 54,
   "id": "61e227ca",
   "metadata": {},
   "outputs": [
    {
     "name": "stdout",
     "output_type": "stream",
     "text": [
      "Epoch 1/15\n",
      "100/100 [==============================] - 157s 2s/step - loss: 0.6474 - accuracy: 0.6114 - val_loss: 0.5653 - val_accuracy: 0.7268\n",
      "Epoch 2/15\n",
      "100/100 [==============================] - 66s 665ms/step - loss: 0.5670 - accuracy: 0.7213 - val_loss: 0.6130 - val_accuracy: 0.6836\n",
      "Epoch 3/15\n",
      "100/100 [==============================] - 65s 649ms/step - loss: 0.5387 - accuracy: 0.7529 - val_loss: 0.5436 - val_accuracy: 0.7305\n",
      "Epoch 4/15\n",
      "100/100 [==============================] - 63s 630ms/step - loss: 0.5201 - accuracy: 0.7570 - val_loss: 0.5207 - val_accuracy: 0.7513\n",
      "Epoch 5/15\n",
      "100/100 [==============================] - 62s 622ms/step - loss: 0.5128 - accuracy: 0.7630 - val_loss: 0.4741 - val_accuracy: 0.7900\n",
      "Epoch 6/15\n",
      "100/100 [==============================] - 60s 605ms/step - loss: 0.5082 - accuracy: 0.7611 - val_loss: 0.4740 - val_accuracy: 0.7818\n",
      "Epoch 7/15\n",
      "100/100 [==============================] - 61s 617ms/step - loss: 0.4946 - accuracy: 0.7724 - val_loss: 0.4974 - val_accuracy: 0.7740\n",
      "Epoch 8/15\n",
      "100/100 [==============================] - 61s 609ms/step - loss: 0.4900 - accuracy: 0.7786 - val_loss: 0.4416 - val_accuracy: 0.8013\n",
      "Epoch 9/15\n",
      "100/100 [==============================] - 60s 600ms/step - loss: 0.4830 - accuracy: 0.7751 - val_loss: 0.4432 - val_accuracy: 0.8006\n",
      "Epoch 10/15\n",
      "100/100 [==============================] - 58s 580ms/step - loss: 0.4760 - accuracy: 0.7843 - val_loss: 0.4393 - val_accuracy: 0.8047\n",
      "Epoch 11/15\n",
      "100/100 [==============================] - 55s 556ms/step - loss: 0.4808 - accuracy: 0.7833 - val_loss: 0.4411 - val_accuracy: 0.8063\n",
      "Epoch 12/15\n",
      "100/100 [==============================] - 55s 550ms/step - loss: 0.4704 - accuracy: 0.7894 - val_loss: 0.5058 - val_accuracy: 0.7617\n",
      "Epoch 13/15\n",
      "100/100 [==============================] - 54s 547ms/step - loss: 0.4652 - accuracy: 0.7896 - val_loss: 0.4346 - val_accuracy: 0.8070\n",
      "Epoch 14/15\n",
      "100/100 [==============================] - 53s 535ms/step - loss: 0.4472 - accuracy: 0.7971 - val_loss: 0.4526 - val_accuracy: 0.8036\n",
      "Epoch 15/15\n",
      "100/100 [==============================] - 53s 535ms/step - loss: 0.4610 - accuracy: 0.7886 - val_loss: 0.4437 - val_accuracy: 0.8024\n"
     ]
    }
   ],
   "source": [
    "history = model.fit(train_generator,\n",
    "                              steps_per_epoch= 100,\n",
    "                              epochs=15,\n",
    "                              verbose=1,\n",
    "                              validation_data=validation_generator,\n",
    "                              callbacks=checkpoint)"
   ]
  },
  {
   "cell_type": "code",
   "execution_count": 55,
   "id": "df78c68a",
   "metadata": {},
   "outputs": [],
   "source": [
    "#-----------------------------------------------------------\n",
    "# Retrieve a list of list results on training and test data\n",
    "# sets for each training epoch\n",
    "#-----------------------------------------------------------\n",
    "acc=history.history['accuracy']\n",
    "val_acc=history.history['val_accuracy']\n",
    "loss=history.history['loss']\n",
    "val_loss=history.history['val_loss']\n",
    "\n",
    "epochs=range(len(acc)) # Get number of epochs\n"
   ]
  },
  {
   "cell_type": "code",
   "execution_count": 56,
   "id": "47d01158",
   "metadata": {},
   "outputs": [
    {
     "data": {
      "image/png": "[encoded data removed]",
      "text/plain": [
       "<Figure size 640x480 with 1 Axes>"
      ]
     },
     "metadata": {},
     "output_type": "display_data"
    }
   ],
   "source": [
    "#------------------------------------------------\n",
    "# Plot training and validation accuracy per epoch\n",
    "#------------------------------------------------\n",
    "plt.plot(epochs, acc, 'r', \"Training Accuracy\")\n",
    "plt.plot(epochs, val_acc, 'b', \"Validation Accuracy\")\n",
    "plt.title('Training and validation accuracy')\n",
    "plt.show()\n"
   ]
  },
  {
   "cell_type": "code",
   "execution_count": 57,
   "id": "4e05b854",
   "metadata": {},
   "outputs": [
    {
     "data": {
      "image/png": "[encoded data removed]",
      "text/plain": [
       "<Figure size 640x480 with 1 Axes>"
      ]
     },
     "metadata": {},
     "output_type": "display_data"
    }
   ],
   "source": [
    "#------------------------------------------------\n",
    "# Plot training and validation loss per epoch\n",
    "#------------------------------------------------\n",
    "plt.plot(epochs, loss, 'r', \"Training Loss\")\n",
    "plt.plot(epochs, val_loss, 'b', \"Validation Loss\")\n",
    "plt.show()\n",
    "# Desired output. Charts with training and validation metrics. No crash :)"
   ]
  },
  {
   "cell_type": "code",
   "execution_count": 58,
   "id": "c0ad7d71",
   "metadata": {},
   "outputs": [],
   "source": [
    "checkpoint2 = ModelCheckpoint('pesos_del_modelo2_epoch_{epoch:02d}.h5', \n",
    "                             save_weights_only=True, \n",
    "                             save_best_only=False)"
   ]
  },
  {
   "cell_type": "code",
   "execution_count": 59,
   "id": "35981f3b",
   "metadata": {},
   "outputs": [],
   "source": [
    "model2 = tf.keras.models.Sequential([\n",
    "    tf.keras.layers.Conv2D(32, (5, 5), activation='relu', input_shape=(50, 50, 3)),\n",
    "    tf.keras.layers.MaxPooling2D(2, 2),\n",
    "    tf.keras.layers.Conv2D(64, (3, 3), activation='relu'),\n",
    "    tf.keras.layers.MaxPooling2D(2, 2),\n",
    "    tf.keras.layers.Conv2D(128, (3, 3), activation='relu'),\n",
    "    tf.keras.layers.MaxPooling2D(2, 2),\n",
    "    tf.keras.layers.Flatten(),\n",
    "    tf.keras.layers.Dense(1024, activation='relu'),\n",
    "    tf.keras.layers.Dense(1, activation='sigmoid')\n",
    "])\n",
    "model2.compile(optimizer=RMSprop(learning_rate=0.001), loss='binary_crossentropy', metrics=['accuracy'])"
   ]
  },
  {
   "cell_type": "code",
   "execution_count": 60,
   "id": "13c9c303",
   "metadata": {},
   "outputs": [
    {
     "name": "stdout",
     "output_type": "stream",
     "text": [
      "Epoch 1/15\n",
      "100/100 [==============================] - 58s 574ms/step - loss: 0.6875 - accuracy: 0.5667 - val_loss: 0.6302 - val_accuracy: 0.7107\n",
      "Epoch 2/15\n",
      "100/100 [==============================] - 58s 579ms/step - loss: 0.6249 - accuracy: 0.6795 - val_loss: 0.5473 - val_accuracy: 0.7396\n",
      "Epoch 3/15\n",
      "100/100 [==============================] - 57s 575ms/step - loss: 0.5917 - accuracy: 0.7069 - val_loss: 0.5748 - val_accuracy: 0.7140\n",
      "Epoch 4/15\n",
      "100/100 [==============================] - 57s 573ms/step - loss: 0.5779 - accuracy: 0.7199 - val_loss: 0.6238 - val_accuracy: 0.6686\n",
      "Epoch 5/15\n",
      "100/100 [==============================] - 56s 566ms/step - loss: 0.5749 - accuracy: 0.7160 - val_loss: 0.5773 - val_accuracy: 0.6793\n",
      "Epoch 6/15\n",
      "100/100 [==============================] - 56s 564ms/step - loss: 0.5692 - accuracy: 0.7204 - val_loss: 0.5468 - val_accuracy: 0.7433\n",
      "Epoch 7/15\n",
      "100/100 [==============================] - 57s 570ms/step - loss: 0.5411 - accuracy: 0.7435 - val_loss: 0.4852 - val_accuracy: 0.7786\n",
      "Epoch 8/15\n",
      "100/100 [==============================] - 56s 564ms/step - loss: 0.5421 - accuracy: 0.7371 - val_loss: 0.5844 - val_accuracy: 0.6680\n",
      "Epoch 9/15\n",
      "100/100 [==============================] - 55s 554ms/step - loss: 0.5316 - accuracy: 0.7496 - val_loss: 0.5106 - val_accuracy: 0.7569\n",
      "Epoch 10/15\n",
      "100/100 [==============================] - 55s 557ms/step - loss: 0.5228 - accuracy: 0.7576 - val_loss: 0.5279 - val_accuracy: 0.7538\n",
      "Epoch 11/15\n",
      "100/100 [==============================] - 55s 548ms/step - loss: 0.5288 - accuracy: 0.7500 - val_loss: 0.4607 - val_accuracy: 0.7923\n",
      "Epoch 12/15\n",
      "100/100 [==============================] - 55s 548ms/step - loss: 0.5215 - accuracy: 0.7584 - val_loss: 0.5103 - val_accuracy: 0.7570\n",
      "Epoch 13/15\n",
      "100/100 [==============================] - 54s 545ms/step - loss: 0.5027 - accuracy: 0.7688 - val_loss: 0.4505 - val_accuracy: 0.8025\n",
      "Epoch 14/15\n",
      "100/100 [==============================] - 54s 541ms/step - loss: 0.4956 - accuracy: 0.7734 - val_loss: 0.4616 - val_accuracy: 0.7909\n",
      "Epoch 15/15\n",
      "100/100 [==============================] - 53s 536ms/step - loss: 0.4806 - accuracy: 0.7796 - val_loss: 0.4435 - val_accuracy: 0.8004\n"
     ]
    }
   ],
   "source": [
    "history2 = model2.fit(train_generator,\n",
    "                              steps_per_epoch= 100,\n",
    "                              epochs=15,\n",
    "                              verbose=1,\n",
    "                              validation_data=validation_generator,\n",
    "                              callbacks=checkpoint2)"
   ]
  },
  {
   "cell_type": "code",
   "execution_count": 63,
   "id": "319e13b0",
   "metadata": {},
   "outputs": [],
   "source": [
    "#-----------------------------------------------------------\n",
    "# Retrieve a list of list results on training and test data\n",
    "# sets for each training epoch\n",
    "#-----------------------------------------------------------\n",
    "acc2=history2.history['accuracy']\n",
    "val_acc2=history2.history['val_accuracy']\n",
    "loss2=history2.history['loss']\n",
    "val_loss2=history2.history['val_loss']\n",
    "\n",
    "epochs2=range(len(acc)) # Get number of epochs\n"
   ]
  },
  {
   "cell_type": "code",
   "execution_count": 64,
   "id": "f55be287",
   "metadata": {},
   "outputs": [
    {
     "data": {
      "image/png": "[encoded data removed]",
      "text/plain": [
       "<Figure size 640x480 with 1 Axes>"
      ]
     },
     "metadata": {},
     "output_type": "display_data"
    }
   ],
   "source": [
    "#------------------------------------------------\n",
    "# Plot training and validation accuracy per epoch\n",
    "#------------------------------------------------\n",
    "plt.plot(epochs2, acc2, 'r', \"Training Accuracy\")\n",
    "plt.plot(epochs2, val_acc2, 'b', \"Validation Accuracy\")\n",
    "plt.title('Training and validation accuracy')\n",
    "plt.show()\n"
   ]
  },
  {
   "cell_type": "code",
   "execution_count": 65,
   "id": "ec158029",
   "metadata": {},
   "outputs": [
    {
     "data": {
      "image/png": "[encoded data removed]",
      "text/plain": [
       "<Figure size 640x480 with 1 Axes>"
      ]
     },
     "metadata": {},
     "output_type": "display_data"
    }
   ],
   "source": [
    "#------------------------------------------------\n",
    "# Plot training and validation loss per epoch\n",
    "#------------------------------------------------\n",
    "plt.plot(epochs2, loss2, 'r', \"Training Loss\")\n",
    "plt.plot(epochs2, val_loss2, 'b', \"Validation Loss\")\n",
    "plt.show()\n",
    "# Desired output. Charts with training and validation metrics. No crash :)"
   ]
  },
  {
   "cell_type": "markdown",
   "id": "80b1debd",
   "metadata": {},
   "source": [
    "## Matriz de confusión "
   ]
  },
  {
   "cell_type": "code",
   "execution_count": null,
   "id": "a8a5513c",
   "metadata": {},
   "outputs": [],
   "source": []
  },
  {
   "cell_type": "code",
   "execution_count": null,
   "id": "41531009",
   "metadata": {},
   "outputs": [],
   "source": []
  }
 ],
 "metadata": {
  "kernelspec": {
   "display_name": "Python 3 (ipykernel)",
   "language": "python",
   "name": "python3"
  },
  "language_info": {
   "codemirror_mode": {
    "name": "ipython",
    "version": 3
   },
   "file_extension": ".py",
   "mimetype": "text/x-python",
   "name": "python",
   "nbconvert_exporter": "python",
   "pygments_lexer": "ipython3",
   "version": "3.11.5"
  }
 },
 "nbformat": 4,
 "nbformat_minor": 5
}
